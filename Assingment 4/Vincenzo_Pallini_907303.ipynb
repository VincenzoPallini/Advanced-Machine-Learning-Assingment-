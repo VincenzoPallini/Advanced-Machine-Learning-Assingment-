{
 "cells": [
  {
   "cell_type": "code",
   "execution_count": 37,
   "metadata": {
    "execution": {
     "iopub.execute_input": "2024-12-17T10:55:45.746331Z",
     "iopub.status.busy": "2024-12-17T10:55:45.745890Z",
     "iopub.status.idle": "2024-12-17T10:55:45.753463Z",
     "shell.execute_reply": "2024-12-17T10:55:45.752465Z",
     "shell.execute_reply.started": "2024-12-17T10:55:45.746285Z"
    },
    "id": "u37Ia-luJQfj",
    "trusted": true
   },
   "outputs": [],
   "source": [
    "import io\n",
    "import sys\n",
    "import math\n",
    "import numpy as np\n",
    "import matplotlib.pyplot as plt\n",
    "from sklearn.model_selection import train_test_split\n",
    "import tensorflow as tf\n",
    "from tensorflow import keras\n",
    "from keras.models import Sequential\n",
    "from keras.layers import Dense, LSTM, Dropout\n",
    "from time import time\n",
    "from keras.callbacks import EarlyStopping"
   ]
  },
  {
   "cell_type": "markdown",
   "metadata": {
    "id": "dO1RDSrutfQZ"
   },
   "source": [
    "Open the file \"divina_commedia.txt\" and print the length and the first 1000 characters:"
   ]
  },
  {
   "cell_type": "code",
   "execution_count": 38,
   "metadata": {
    "colab": {
     "base_uri": "https://localhost:8080/",
     "height": 157
    },
    "execution": {
     "iopub.execute_input": "2024-12-17T10:55:45.755815Z",
     "iopub.status.busy": "2024-12-17T10:55:45.755381Z",
     "iopub.status.idle": "2024-12-17T10:55:45.779065Z",
     "shell.execute_reply": "2024-12-17T10:55:45.778240Z",
     "shell.execute_reply.started": "2024-12-17T10:55:45.755775Z"
    },
    "executionInfo": {
     "elapsed": 2240,
     "status": "ok",
     "timestamp": 1734354456683,
     "user": {
      "displayName": "Stefano Gualtieri",
      "userId": "11512827843910756986"
     },
     "user_tz": -60
    },
    "id": "bdP5f0gfLA35",
    "outputId": "4c13b21c-fe4c-4333-89ef-cc72718e49f7",
    "trusted": true
   },
   "outputs": [
    {
     "name": "stdout",
     "output_type": "stream",
     "text": [
      "text length: 558241\n",
      "\n",
      "\n",
      "\n",
      "\n",
      "\n",
      "\n",
      " ****** first 1000 characters ******* \n",
      "\n",
      "\n",
      "\n",
      "\n"
     ]
    },
    {
     "data": {
      "text/plain": [
       "\"inferno\\n\\n\\n\\ninferno: canto i\\n\\n\\nnel mezzo del cammin di nostra vita\\n  mi ritrovai per una selva oscura\\n  che' la diritta via era smarrita.\\n\\nahi quanto a dir qual era e` cosa dura\\n  esta selva selvaggia e aspra e forte\\n  che nel pensier rinova la paura!\\n\\ntant'e` amara che poco e` piu` morte;\\n  ma per trattar del ben ch'i' vi trovai,\\n  diro` de l'altre cose ch'i' v'ho scorte.\\n\\nio non so ben ridir com'i' v'intrai,\\n  tant'era pien di sonno a quel punto\\n  che la verace via abbandonai.\\n\\nma poi ch'i' fui al pie` d'un colle giunto,\\n  la` dove terminava quella valle\\n  che m'avea di paura il cor compunto,\\n\\nguardai in alto, e vidi le sue spalle\\n  vestite gia` de' raggi del pianeta\\n  che mena dritto altrui per ogne calle.\\n\\nallor fu la paura un poco queta\\n  che nel lago del cor m'era durata\\n  la notte ch'i' passai con tanta pieta.\\n\\ne come quei che con lena affannata\\n  uscito fuor del pelago a la riva\\n  si volge a l'acqua perigliosa e guata,\\n\\ncosi` l'animo mio, ch'ancor fuggiva,\\n  si volse a retro a r\""
      ]
     },
     "execution_count": 38,
     "metadata": {},
     "output_type": "execute_result"
    }
   ],
   "source": [
    "with io.open('/kaggle/input/divina/divina_commedia.txt', encoding='utf-8') as f:\n",
    "    text = f.read().lower()\n",
    "print('text length:', len(text))\n",
    "print()\n",
    "print('\\n\\n\\n\\n\\n', '****** first 1000 characters *******', '\\n\\n\\n\\n')\n",
    "text[0:1000]\n"
   ]
  },
  {
   "cell_type": "markdown",
   "metadata": {
    "id": "Jrwr7oULts7J"
   },
   "source": [
    "Create the dictionaries that map each character into an index and each index into a character:"
   ]
  },
  {
   "cell_type": "code",
   "execution_count": 39,
   "metadata": {
    "colab": {
     "base_uri": "https://localhost:8080/"
    },
    "execution": {
     "iopub.execute_input": "2024-12-17T10:55:45.780509Z",
     "iopub.status.busy": "2024-12-17T10:55:45.780149Z",
     "iopub.status.idle": "2024-12-17T10:55:45.799978Z",
     "shell.execute_reply": "2024-12-17T10:55:45.798990Z",
     "shell.execute_reply.started": "2024-12-17T10:55:45.780471Z"
    },
    "executionInfo": {
     "elapsed": 8,
     "status": "ok",
     "timestamp": 1734354456684,
     "user": {
      "displayName": "Stefano Gualtieri",
      "userId": "11512827843910756986"
     },
     "user_tz": -60
    },
    "id": "TmiXlv5eMVUi",
    "outputId": "b4ec89d5-07e5-46f2-be2c-48a79b7c8fa6",
    "trusted": true
   },
   "outputs": [
    {
     "name": "stdout",
     "output_type": "stream",
     "text": [
      "Total chars: ['\\n', ' ', '!', '\"', \"'\", '(', ')', ',', '-', '.', ':', ';', '<', '>', '?', '`', 'a', 'b', 'c', 'd', 'e', 'f', 'g', 'h', 'i', 'j', 'l', 'm', 'n', 'o', 'p', 'q', 'r', 's', 't', 'u', 'v', 'x', 'y', 'z'],\n",
      "Number of chars: 40\n",
      "\n",
      "\n",
      "Dictionary character-index: {'\\n': 0, ' ': 1, '!': 2, '\"': 3, \"'\": 4, '(': 5, ')': 6, ',': 7, '-': 8, '.': 9, ':': 10, ';': 11, '<': 12, '>': 13, '?': 14, '`': 15, 'a': 16, 'b': 17, 'c': 18, 'd': 19, 'e': 20, 'f': 21, 'g': 22, 'h': 23, 'i': 24, 'j': 25, 'l': 26, 'm': 27, 'n': 28, 'o': 29, 'p': 30, 'q': 31, 'r': 32, 's': 33, 't': 34, 'u': 35, 'v': 36, 'x': 37, 'y': 38, 'z': 39}\n",
      "Dictionary character-index: {0: '\\n', 1: ' ', 2: '!', 3: '\"', 4: \"'\", 5: '(', 6: ')', 7: ',', 8: '-', 9: '.', 10: ':', 11: ';', 12: '<', 13: '>', 14: '?', 15: '`', 16: 'a', 17: 'b', 18: 'c', 19: 'd', 20: 'e', 21: 'f', 22: 'g', 23: 'h', 24: 'i', 25: 'j', 26: 'l', 27: 'm', 28: 'n', 29: 'o', 30: 'p', 31: 'q', 32: 'r', 33: 's', 34: 't', 35: 'u', 36: 'v', 37: 'x', 38: 'y', 39: 'z'}\n"
     ]
    }
   ],
   "source": [
    "chars = sorted(list(set(text)))\n",
    "num_chars = len(chars)\n",
    "print(f\"Total chars: {chars},\\nNumber of chars: {num_chars}\\n\\n\")\n",
    "\n",
    "char_indices = dict((c,i) for i, c in enumerate(chars))\n",
    "indices_char = dict((i,c) for i,c in enumerate(chars))\n",
    "\n",
    "print(f\"Dictionary character-index: {char_indices}\")\n",
    "print(f\"Dictionary character-index: {indices_char}\")\n"
   ]
  },
  {
   "cell_type": "markdown",
   "metadata": {
    "id": "o3hqg85XvPiR"
   },
   "source": [
    "- *Sentences*: Sequences of 30 characters (maxlen), extracted from the text with a step of 3.\n",
    "- *Next_char*: The next character for each sentence. Specifically, for index \"i\", sentences[i] contains the sequence starting at position \"i\" in the text, and next_char[i] is the character at position i + maxlen."
   ]
  },
  {
   "cell_type": "code",
   "execution_count": 40,
   "metadata": {
    "execution": {
     "iopub.execute_input": "2024-12-17T10:55:45.802804Z",
     "iopub.status.busy": "2024-12-17T10:55:45.802454Z",
     "iopub.status.idle": "2024-12-17T10:55:45.813338Z",
     "shell.execute_reply": "2024-12-17T10:55:45.812515Z",
     "shell.execute_reply.started": "2024-12-17T10:55:45.802758Z"
    },
    "id": "EwYS1R0llAbT",
    "trusted": true
   },
   "outputs": [],
   "source": [
    "def generate_sequence (text, maxlen, step):\n",
    "  sentences = []\n",
    "  next_char = []\n",
    "\n",
    "  for i in range(0, len(text) - maxlen, step):\n",
    "    sentences.append(text[i:i + maxlen])  #doesn't take the character in position (i+maxlen)\n",
    "    next_char.append(text[i + maxlen])\n",
    "\n",
    "  return sentences, next_char"
   ]
  },
  {
   "cell_type": "code",
   "execution_count": 41,
   "metadata": {
    "colab": {
     "base_uri": "https://localhost:8080/"
    },
    "execution": {
     "iopub.execute_input": "2024-12-17T10:55:45.814817Z",
     "iopub.status.busy": "2024-12-17T10:55:45.814498Z",
     "iopub.status.idle": "2024-12-17T10:55:45.907622Z",
     "shell.execute_reply": "2024-12-17T10:55:45.906692Z",
     "shell.execute_reply.started": "2024-12-17T10:55:45.814788Z"
    },
    "executionInfo": {
     "elapsed": 6,
     "status": "ok",
     "timestamp": 1734354456684,
     "user": {
      "displayName": "Stefano Gualtieri",
      "userId": "11512827843910756986"
     },
     "user_tz": -60
    },
    "id": "jefsTAe6RiMJ",
    "outputId": "e4831ac6-e7ae-4421-e145-d7272cf52d12",
    "trusted": true
   },
   "outputs": [
    {
     "name": "stdout",
     "output_type": "stream",
     "text": [
      "Number of sequences: 186071\n",
      "Let's print an example of a sentence and its next character:\n",
      "Sentence 11:  mezzo del cammin di nostra vi\n",
      "Next character of the sentence: t\n"
     ]
    }
   ],
   "source": [
    "maxlen = 30\n",
    "step = 3\n",
    "\n",
    "sentences, next_char = generate_sequence (text, maxlen, step)\n",
    "\n",
    "print (f\"Number of sequences: {len(sentences)}\")\n",
    "print(\"Let's print an example of a sentence and its next character:\")\n",
    "print(f\"Sentence 11: {sentences[11]}\")\n",
    "print(f\"Next character of the sentence: {next_char[11]}\")"
   ]
  },
  {
   "cell_type": "markdown",
   "metadata": {
    "id": "Kz897RgO31OK"
   },
   "source": [
    "- *The input*: A vector of len(sentences) instances, where each instance is represented as a matrix with 30 rows and 40 columns (maxlen × len(chars)). The input sequences are one-hot encoded, with a value of 1 at each position corresponding to the character present at that position in the sentence.\n",
    "\n",
    "- *The output*: A matrix with the same number of instances and 40 columns (len(chars)). For each instance, a value of 1 is placed at the position corresponding to the next_char of that instance."
   ]
  },
  {
   "cell_type": "code",
   "execution_count": 42,
   "metadata": {
    "colab": {
     "base_uri": "https://localhost:8080/"
    },
    "execution": {
     "iopub.execute_input": "2024-12-17T10:55:45.909083Z",
     "iopub.status.busy": "2024-12-17T10:55:45.908737Z",
     "iopub.status.idle": "2024-12-17T10:55:47.232717Z",
     "shell.execute_reply": "2024-12-17T10:55:47.231871Z",
     "shell.execute_reply.started": "2024-12-17T10:55:45.909055Z"
    },
    "executionInfo": {
     "elapsed": 2109,
     "status": "ok",
     "timestamp": 1734354458789,
     "user": {
      "displayName": "Stefano Gualtieri",
      "userId": "11512827843910756986"
     },
     "user_tz": -60
    },
    "id": "7gCR00PwSM1e",
    "outputId": "87bde9ba-4f52-4d75-91ae-27cd17119868",
    "trusted": true
   },
   "outputs": [
    {
     "name": "stdout",
     "output_type": "stream",
     "text": [
      "(186071, 30, 40)\n",
      "(186071, 40)\n"
     ]
    }
   ],
   "source": [
    "def one_hot_encode (sentences, maxlen, chars, next_char):\n",
    "  x = np.zeros((len(sentences), maxlen, len(chars)), dtype=bool)\n",
    "  y = np.zeros((len(sentences), len(chars)), dtype=bool)\n",
    "\n",
    "  for i, sentence in enumerate(sentences):\n",
    "    for t, char in enumerate(sentence):\n",
    "      x[i, t, char_indices[char]] = 1\n",
    "    y [i, char_indices[next_char[i]]] = 1\n",
    "\n",
    "  return x,y\n",
    "\n",
    "x, y = one_hot_encode (sentences, maxlen, chars, next_char)\n",
    "\n",
    "print(x.shape)\n",
    "print(y.shape)"
   ]
  },
  {
   "cell_type": "markdown",
   "metadata": {
    "id": "pcY63PWemaaT"
   },
   "source": [
    "Divide the text in a training, validation a test datasets:"
   ]
  },
  {
   "cell_type": "code",
   "execution_count": 43,
   "metadata": {
    "execution": {
     "iopub.execute_input": "2024-12-17T10:55:47.234112Z",
     "iopub.status.busy": "2024-12-17T10:55:47.233790Z",
     "iopub.status.idle": "2024-12-17T10:55:47.348298Z",
     "shell.execute_reply": "2024-12-17T10:55:47.347528Z",
     "shell.execute_reply.started": "2024-12-17T10:55:47.234084Z"
    },
    "id": "8CKHORFRmZD5",
    "trusted": true
   },
   "outputs": [],
   "source": [
    "x_train, x_test, y_train, y_test = train_test_split(x, y, test_size=0.2, random_state=42)\n"
   ]
  },
  {
   "cell_type": "code",
   "execution_count": 44,
   "metadata": {
    "colab": {
     "base_uri": "https://localhost:8080/"
    },
    "execution": {
     "iopub.execute_input": "2024-12-17T10:55:47.349641Z",
     "iopub.status.busy": "2024-12-17T10:55:47.349351Z",
     "iopub.status.idle": "2024-12-17T10:55:47.354290Z",
     "shell.execute_reply": "2024-12-17T10:55:47.353449Z",
     "shell.execute_reply.started": "2024-12-17T10:55:47.349613Z"
    },
    "executionInfo": {
     "elapsed": 3,
     "status": "ok",
     "timestamp": 1734354458789,
     "user": {
      "displayName": "Stefano Gualtieri",
      "userId": "11512827843910756986"
     },
     "user_tz": -60
    },
    "id": "CElMVnvempAK",
    "outputId": "0850196e-7ab5-4046-e367-5c6b55a12bb9",
    "trusted": true
   },
   "outputs": [
    {
     "name": "stdout",
     "output_type": "stream",
     "text": [
      "(148856, 30, 40)\n",
      "(148856, 40)\n",
      "(37215, 30, 40)\n",
      "(37215, 40)\n"
     ]
    }
   ],
   "source": [
    "print(x_train.shape)\n",
    "print(y_train.shape)\n",
    "print(x_test.shape)\n",
    "print(y_test.shape)"
   ]
  },
  {
   "cell_type": "markdown",
   "metadata": {
    "id": "g6mqlUsynBlL"
   },
   "source": [
    "Define some functions that we are going to use later to evaluate the training phase with the validation set."
   ]
  },
  {
   "cell_type": "code",
   "execution_count": 45,
   "metadata": {
    "execution": {
     "iopub.execute_input": "2024-12-17T10:55:47.355490Z",
     "iopub.status.busy": "2024-12-17T10:55:47.355274Z",
     "iopub.status.idle": "2024-12-17T10:55:47.367423Z",
     "shell.execute_reply": "2024-12-17T10:55:47.366643Z",
     "shell.execute_reply.started": "2024-12-17T10:55:47.355467Z"
    },
    "id": "JW3xYawKnBXO",
    "trusted": true
   },
   "outputs": [],
   "source": [
    "def plot_accuracy(history):\n",
    "  plt.plot(history.history['accuracy'])\n",
    "  plt.plot(history.history['val_accuracy'])\n",
    "  plt.title('model accuracy')\n",
    "  plt.ylabel('accuracy')\n",
    "  plt.xlabel('epoch')\n",
    "  plt.legend(['train', 'validation'], loc='upper left')\n",
    "  plt.show()\n",
    "\n",
    "def plot_loss(history):\n",
    "  plt.plot(history.history['loss'])\n",
    "  plt.plot(history.history['val_loss'])\n",
    "  plt.title('model loss')\n",
    "  plt.ylabel('loss')\n",
    "  plt.xlabel('epoch')\n",
    "  plt.legend(['train', 'validation'], loc='upper left')\n",
    "  plt.show()"
   ]
  },
  {
   "cell_type": "markdown",
   "metadata": {
    "id": "YjHBVT6n6vwA"
   },
   "source": [
    "# Reference Model\n",
    "\n",
    "Let's now define the model that we saw during class, an LSTM that taken a sentence as an input learns to predict the next character. "
   ]
  },
  {
   "cell_type": "code",
   "execution_count": 46,
   "metadata": {
    "colab": {
     "base_uri": "https://localhost:8080/",
     "height": 193
    },
    "execution": {
     "iopub.execute_input": "2024-12-17T10:55:47.370020Z",
     "iopub.status.busy": "2024-12-17T10:55:47.369751Z",
     "iopub.status.idle": "2024-12-17T10:55:47.427276Z",
     "shell.execute_reply": "2024-12-17T10:55:47.426472Z",
     "shell.execute_reply.started": "2024-12-17T10:55:47.369972Z"
    },
    "executionInfo": {
     "elapsed": 405,
     "status": "ok",
     "timestamp": 1734356069097,
     "user": {
      "displayName": "Stefano Gualtieri",
      "userId": "11512827843910756986"
     },
     "user_tz": -60
    },
    "id": "toKDKiL4U2EO",
    "outputId": "54ca69eb-33c1-4bd4-aa22-fd97c1e21700",
    "trusted": true
   },
   "outputs": [
    {
     "data": {
      "text/html": [
       "<pre style=\"white-space:pre;overflow-x:auto;line-height:normal;font-family:Menlo,'DejaVu Sans Mono',consolas,'Courier New',monospace\"><span style=\"font-weight: bold\">Model: \"sequential_4\"</span>\n",
       "</pre>\n"
      ],
      "text/plain": [
       "\u001b[1mModel: \"sequential_4\"\u001b[0m\n"
      ]
     },
     "metadata": {},
     "output_type": "display_data"
    },
    {
     "data": {
      "text/html": [
       "<pre style=\"white-space:pre;overflow-x:auto;line-height:normal;font-family:Menlo,'DejaVu Sans Mono',consolas,'Courier New',monospace\">┏━━━━━━━━━━━━━━━━━━━━━━━━━━━━━━━━━┳━━━━━━━━━━━━━━━━━━━━━━━━┳━━━━━━━━━━━━━━━┓\n",
       "┃<span style=\"font-weight: bold\"> Layer (type)                    </span>┃<span style=\"font-weight: bold\"> Output Shape           </span>┃<span style=\"font-weight: bold\">       Param # </span>┃\n",
       "┡━━━━━━━━━━━━━━━━━━━━━━━━━━━━━━━━━╇━━━━━━━━━━━━━━━━━━━━━━━━╇━━━━━━━━━━━━━━━┩\n",
       "│ lstm_5 (<span style=\"color: #0087ff; text-decoration-color: #0087ff\">LSTM</span>)                   │ (<span style=\"color: #00d7ff; text-decoration-color: #00d7ff\">None</span>, <span style=\"color: #00af00; text-decoration-color: #00af00\">128</span>)            │        <span style=\"color: #00af00; text-decoration-color: #00af00\">86,528</span> │\n",
       "├─────────────────────────────────┼────────────────────────┼───────────────┤\n",
       "│ dense_4 (<span style=\"color: #0087ff; text-decoration-color: #0087ff\">Dense</span>)                 │ (<span style=\"color: #00d7ff; text-decoration-color: #00d7ff\">None</span>, <span style=\"color: #00af00; text-decoration-color: #00af00\">40</span>)             │         <span style=\"color: #00af00; text-decoration-color: #00af00\">5,160</span> │\n",
       "└─────────────────────────────────┴────────────────────────┴───────────────┘\n",
       "</pre>\n"
      ],
      "text/plain": [
       "┏━━━━━━━━━━━━━━━━━━━━━━━━━━━━━━━━━┳━━━━━━━━━━━━━━━━━━━━━━━━┳━━━━━━━━━━━━━━━┓\n",
       "┃\u001b[1m \u001b[0m\u001b[1mLayer (type)                   \u001b[0m\u001b[1m \u001b[0m┃\u001b[1m \u001b[0m\u001b[1mOutput Shape          \u001b[0m\u001b[1m \u001b[0m┃\u001b[1m \u001b[0m\u001b[1m      Param #\u001b[0m\u001b[1m \u001b[0m┃\n",
       "┡━━━━━━━━━━━━━━━━━━━━━━━━━━━━━━━━━╇━━━━━━━━━━━━━━━━━━━━━━━━╇━━━━━━━━━━━━━━━┩\n",
       "│ lstm_5 (\u001b[38;5;33mLSTM\u001b[0m)                   │ (\u001b[38;5;45mNone\u001b[0m, \u001b[38;5;34m128\u001b[0m)            │        \u001b[38;5;34m86,528\u001b[0m │\n",
       "├─────────────────────────────────┼────────────────────────┼───────────────┤\n",
       "│ dense_4 (\u001b[38;5;33mDense\u001b[0m)                 │ (\u001b[38;5;45mNone\u001b[0m, \u001b[38;5;34m40\u001b[0m)             │         \u001b[38;5;34m5,160\u001b[0m │\n",
       "└─────────────────────────────────┴────────────────────────┴───────────────┘\n"
      ]
     },
     "metadata": {},
     "output_type": "display_data"
    },
    {
     "data": {
      "text/html": [
       "<pre style=\"white-space:pre;overflow-x:auto;line-height:normal;font-family:Menlo,'DejaVu Sans Mono',consolas,'Courier New',monospace\"><span style=\"font-weight: bold\"> Total params: </span><span style=\"color: #00af00; text-decoration-color: #00af00\">91,688</span> (358.16 KB)\n",
       "</pre>\n"
      ],
      "text/plain": [
       "\u001b[1m Total params: \u001b[0m\u001b[38;5;34m91,688\u001b[0m (358.16 KB)\n"
      ]
     },
     "metadata": {},
     "output_type": "display_data"
    },
    {
     "data": {
      "text/html": [
       "<pre style=\"white-space:pre;overflow-x:auto;line-height:normal;font-family:Menlo,'DejaVu Sans Mono',consolas,'Courier New',monospace\"><span style=\"font-weight: bold\"> Trainable params: </span><span style=\"color: #00af00; text-decoration-color: #00af00\">91,688</span> (358.16 KB)\n",
       "</pre>\n"
      ],
      "text/plain": [
       "\u001b[1m Trainable params: \u001b[0m\u001b[38;5;34m91,688\u001b[0m (358.16 KB)\n"
      ]
     },
     "metadata": {},
     "output_type": "display_data"
    },
    {
     "data": {
      "text/html": [
       "<pre style=\"white-space:pre;overflow-x:auto;line-height:normal;font-family:Menlo,'DejaVu Sans Mono',consolas,'Courier New',monospace\"><span style=\"font-weight: bold\"> Non-trainable params: </span><span style=\"color: #00af00; text-decoration-color: #00af00\">0</span> (0.00 B)\n",
       "</pre>\n"
      ],
      "text/plain": [
       "\u001b[1m Non-trainable params: \u001b[0m\u001b[38;5;34m0\u001b[0m (0.00 B)\n"
      ]
     },
     "metadata": {},
     "output_type": "display_data"
    }
   ],
   "source": [
    "model = Sequential()\n",
    "model.add(LSTM(128, input_shape=(maxlen, len(chars))))\n",
    "model.add(Dense(len(chars), activation='softmax'))\n",
    "\n",
    "optimizer = tf.keras.optimizers.RMSprop(learning_rate=0.01)\n",
    "model.compile(loss=\"categorical_crossentropy\", optimizer=optimizer, metrics=[\"accuracy\"])\n",
    "model.summary()"
   ]
  },
  {
   "cell_type": "code",
   "execution_count": 47,
   "metadata": {
    "colab": {
     "base_uri": "https://localhost:8080/"
    },
    "execution": {
     "iopub.execute_input": "2024-12-17T10:55:47.428485Z",
     "iopub.status.busy": "2024-12-17T10:55:47.428245Z",
     "iopub.status.idle": "2024-12-17T10:56:18.786873Z",
     "shell.execute_reply": "2024-12-17T10:56:18.786234Z",
     "shell.execute_reply.started": "2024-12-17T10:55:47.428461Z"
    },
    "executionInfo": {
     "elapsed": 34252,
     "status": "ok",
     "timestamp": 1734354497366,
     "user": {
      "displayName": "Stefano Gualtieri",
      "userId": "11512827843910756986"
     },
     "user_tz": -60
    },
    "id": "z2bsYNDYX5FB",
    "outputId": "fcc63b91-3445-4df5-a01b-31d21bdf9c5f",
    "trusted": true
   },
   "outputs": [
    {
     "name": "stdout",
     "output_type": "stream",
     "text": [
      "Epoch 1/20\n",
      "\u001b[1m59/59\u001b[0m \u001b[32m━━━━━━━━━━━━━━━━━━━━\u001b[0m\u001b[37m\u001b[0m \u001b[1m3s\u001b[0m 31ms/step - accuracy: 0.1646 - loss: 3.0504 - val_accuracy: 0.2682 - val_loss: 2.4565\n",
      "Epoch 2/20\n",
      "\u001b[1m59/59\u001b[0m \u001b[32m━━━━━━━━━━━━━━━━━━━━\u001b[0m\u001b[37m\u001b[0m \u001b[1m1s\u001b[0m 25ms/step - accuracy: 0.3021 - loss: 2.3142 - val_accuracy: 0.3366 - val_loss: 2.1157\n",
      "Epoch 3/20\n",
      "\u001b[1m59/59\u001b[0m \u001b[32m━━━━━━━━━━━━━━━━━━━━\u001b[0m\u001b[37m\u001b[0m \u001b[1m1s\u001b[0m 25ms/step - accuracy: 0.3522 - loss: 2.0702 - val_accuracy: 0.3678 - val_loss: 2.0125\n",
      "Epoch 4/20\n",
      "\u001b[1m59/59\u001b[0m \u001b[32m━━━━━━━━━━━━━━━━━━━━\u001b[0m\u001b[37m\u001b[0m \u001b[1m1s\u001b[0m 25ms/step - accuracy: 0.3836 - loss: 1.9383 - val_accuracy: 0.3981 - val_loss: 1.8946\n",
      "Epoch 5/20\n",
      "\u001b[1m59/59\u001b[0m \u001b[32m━━━━━━━━━━━━━━━━━━━━\u001b[0m\u001b[37m\u001b[0m \u001b[1m1s\u001b[0m 25ms/step - accuracy: 0.4128 - loss: 1.8374 - val_accuracy: 0.4077 - val_loss: 1.8370\n",
      "Epoch 6/20\n",
      "\u001b[1m59/59\u001b[0m \u001b[32m━━━━━━━━━━━━━━━━━━━━\u001b[0m\u001b[37m\u001b[0m \u001b[1m1s\u001b[0m 25ms/step - accuracy: 0.4288 - loss: 1.7784 - val_accuracy: 0.4178 - val_loss: 1.8193\n",
      "Epoch 7/20\n",
      "\u001b[1m59/59\u001b[0m \u001b[32m━━━━━━━━━━━━━━━━━━━━\u001b[0m\u001b[37m\u001b[0m \u001b[1m1s\u001b[0m 25ms/step - accuracy: 0.4468 - loss: 1.7224 - val_accuracy: 0.4338 - val_loss: 1.7805\n",
      "Epoch 8/20\n",
      "\u001b[1m59/59\u001b[0m \u001b[32m━━━━━━━━━━━━━━━━━━━━\u001b[0m\u001b[37m\u001b[0m \u001b[1m2s\u001b[0m 25ms/step - accuracy: 0.4600 - loss: 1.6802 - val_accuracy: 0.4294 - val_loss: 1.7756\n",
      "Epoch 9/20\n",
      "\u001b[1m59/59\u001b[0m \u001b[32m━━━━━━━━━━━━━━━━━━━━\u001b[0m\u001b[37m\u001b[0m \u001b[1m2s\u001b[0m 25ms/step - accuracy: 0.4741 - loss: 1.6381 - val_accuracy: 0.4495 - val_loss: 1.7159\n",
      "Epoch 10/20\n",
      "\u001b[1m59/59\u001b[0m \u001b[32m━━━━━━━━━━━━━━━━━━━━\u001b[0m\u001b[37m\u001b[0m \u001b[1m2s\u001b[0m 25ms/step - accuracy: 0.4845 - loss: 1.6006 - val_accuracy: 0.4479 - val_loss: 1.7202\n",
      "Epoch 11/20\n",
      "\u001b[1m59/59\u001b[0m \u001b[32m━━━━━━━━━━━━━━━━━━━━\u001b[0m\u001b[37m\u001b[0m \u001b[1m2s\u001b[0m 25ms/step - accuracy: 0.4955 - loss: 1.5707 - val_accuracy: 0.4659 - val_loss: 1.6939\n",
      "Epoch 12/20\n",
      "\u001b[1m59/59\u001b[0m \u001b[32m━━━━━━━━━━━━━━━━━━━━\u001b[0m\u001b[37m\u001b[0m \u001b[1m2s\u001b[0m 25ms/step - accuracy: 0.5034 - loss: 1.5394 - val_accuracy: 0.4623 - val_loss: 1.6992\n",
      "Epoch 13/20\n",
      "\u001b[1m59/59\u001b[0m \u001b[32m━━━━━━━━━━━━━━━━━━━━\u001b[0m\u001b[37m\u001b[0m \u001b[1m1s\u001b[0m 25ms/step - accuracy: 0.5152 - loss: 1.5067 - val_accuracy: 0.4686 - val_loss: 1.6763\n",
      "Epoch 14/20\n",
      "\u001b[1m59/59\u001b[0m \u001b[32m━━━━━━━━━━━━━━━━━━━━\u001b[0m\u001b[37m\u001b[0m \u001b[1m1s\u001b[0m 25ms/step - accuracy: 0.5229 - loss: 1.4791 - val_accuracy: 0.4772 - val_loss: 1.6633\n",
      "Epoch 15/20\n",
      "\u001b[1m59/59\u001b[0m \u001b[32m━━━━━━━━━━━━━━━━━━━━\u001b[0m\u001b[37m\u001b[0m \u001b[1m1s\u001b[0m 25ms/step - accuracy: 0.5306 - loss: 1.4563 - val_accuracy: 0.4708 - val_loss: 1.6763\n",
      "Epoch 16/20\n",
      "\u001b[1m59/59\u001b[0m \u001b[32m━━━━━━━━━━━━━━━━━━━━\u001b[0m\u001b[37m\u001b[0m \u001b[1m1s\u001b[0m 25ms/step - accuracy: 0.5344 - loss: 1.4340 - val_accuracy: 0.4743 - val_loss: 1.6816\n",
      "Epoch 17/20\n",
      "\u001b[1m59/59\u001b[0m \u001b[32m━━━━━━━━━━━━━━━━━━━━\u001b[0m\u001b[37m\u001b[0m \u001b[1m1s\u001b[0m 25ms/step - accuracy: 0.5438 - loss: 1.4071 - val_accuracy: 0.4714 - val_loss: 1.6868\n",
      "Epoch 18/20\n",
      "\u001b[1m59/59\u001b[0m \u001b[32m━━━━━━━━━━━━━━━━━━━━\u001b[0m\u001b[37m\u001b[0m \u001b[1m1s\u001b[0m 25ms/step - accuracy: 0.5489 - loss: 1.3923 - val_accuracy: 0.4750 - val_loss: 1.6940\n",
      "Epoch 19/20\n",
      "\u001b[1m59/59\u001b[0m \u001b[32m━━━━━━━━━━━━━━━━━━━━\u001b[0m\u001b[37m\u001b[0m \u001b[1m1s\u001b[0m 25ms/step - accuracy: 0.5560 - loss: 1.3714 - val_accuracy: 0.4691 - val_loss: 1.6867\n",
      "Epoch 20/20\n",
      "\u001b[1m59/59\u001b[0m \u001b[32m━━━━━━━━━━━━━━━━━━━━\u001b[0m\u001b[37m\u001b[0m \u001b[1m1s\u001b[0m 24ms/step - accuracy: 0.5641 - loss: 1.3443 - val_accuracy: 0.4690 - val_loss: 1.7033\n"
     ]
    }
   ],
   "source": [
    "start=time()\n",
    "history = model.fit(x_train, y_train, batch_size = 2048, epochs = 20, validation_split = 0.2)\n",
    "time_reference = time() - start"
   ]
  },
  {
   "cell_type": "code",
   "execution_count": 48,
   "metadata": {
    "colab": {
     "base_uri": "https://localhost:8080/",
     "height": 927
    },
    "execution": {
     "iopub.execute_input": "2024-12-17T10:56:18.788166Z",
     "iopub.status.busy": "2024-12-17T10:56:18.787889Z",
     "iopub.status.idle": "2024-12-17T10:56:19.285194Z",
     "shell.execute_reply": "2024-12-17T10:56:19.284339Z",
     "shell.execute_reply.started": "2024-12-17T10:56:18.788139Z"
    },
    "executionInfo": {
     "elapsed": 793,
     "status": "ok",
     "timestamp": 1734354498157,
     "user": {
      "displayName": "Stefano Gualtieri",
      "userId": "11512827843910756986"
     },
     "user_tz": -60
    },
    "id": "6ZZgFw_cpUGi",
    "outputId": "deab45bf-5c6f-424b-be2a-7b6ab4c012b7",
    "trusted": true
   },
   "outputs": [
    {
     "data": {
      "image/png": "[encoded data removed]",
      "text/plain": [
       "<Figure size 640x480 with 1 Axes>"
      ]
     },
     "metadata": {},
     "output_type": "display_data"
    },
    {
     "data": {
      "image/png": "[encoded data removed]",
      "text/plain": [
       "<Figure size 640x480 with 1 Axes>"
      ]
     },
     "metadata": {},
     "output_type": "display_data"
    }
   ],
   "source": [
    "plot_accuracy(history)\n",
    "plot_loss(history)"
   ]
  },
  {
   "cell_type": "markdown",
   "metadata": {
    "id": "ePZCTrZrqCjx"
   },
   "source": [
    "From both plots, we can see that the model is clearly overfitting the training dataset, so we might consider adding some regularization terms later.\n",
    "\n",
    "Let's now evaluate the model using the test set:"
   ]
  },
  {
   "cell_type": "code",
   "execution_count": 49,
   "metadata": {
    "colab": {
     "base_uri": "https://localhost:8080/"
    },
    "execution": {
     "iopub.execute_input": "2024-12-17T10:56:19.289270Z",
     "iopub.status.busy": "2024-12-17T10:56:19.289006Z",
     "iopub.status.idle": "2024-12-17T10:56:21.894680Z",
     "shell.execute_reply": "2024-12-17T10:56:21.893826Z",
     "shell.execute_reply.started": "2024-12-17T10:56:19.289245Z"
    },
    "executionInfo": {
     "elapsed": 3129,
     "status": "ok",
     "timestamp": 1734354501283,
     "user": {
      "displayName": "Stefano Gualtieri",
      "userId": "11512827843910756986"
     },
     "user_tz": -60
    },
    "id": "eVTbUS2mp9lr",
    "outputId": "75fb21b7-508b-4a88-de61-b4e9a7481faa",
    "trusted": true
   },
   "outputs": [
    {
     "name": "stdout",
     "output_type": "stream",
     "text": [
      "Evaluation of the first model: \n",
      "Test loss: 1.709689974784851, Test accuracy: 0.4673921763896942\n"
     ]
    }
   ],
   "source": [
    "print(\"Evaluation of the first model: \")\n",
    "model_loss, model_accuracy = model.evaluate (x_test, y_test, verbose=0)\n",
    "print(f\"Test loss: {model_loss}, Test accuracy: {model_accuracy}\")"
   ]
  },
  {
   "cell_type": "markdown",
   "metadata": {
    "id": "It3lX5kyslCg"
   },
   "source": [
    "Calculate the model perplexity:"
   ]
  },
  {
   "cell_type": "code",
   "execution_count": 50,
   "metadata": {
    "execution": {
     "iopub.execute_input": "2024-12-17T10:56:21.896536Z",
     "iopub.status.busy": "2024-12-17T10:56:21.895894Z",
     "iopub.status.idle": "2024-12-17T10:56:21.900770Z",
     "shell.execute_reply": "2024-12-17T10:56:21.899919Z",
     "shell.execute_reply.started": "2024-12-17T10:56:21.896493Z"
    },
    "id": "vn1y-JqRtRfk",
    "trusted": true
   },
   "outputs": [],
   "source": [
    "def get_perplexity (y_pred, y_true):\n",
    "  cce = keras.losses.CategoricalCrossentropy(from_logits=False)\n",
    "  return math.exp(cce(y_true, y_pred))"
   ]
  },
  {
   "cell_type": "code",
   "execution_count": 51,
   "metadata": {
    "colab": {
     "base_uri": "https://localhost:8080/"
    },
    "execution": {
     "iopub.execute_input": "2024-12-17T10:56:21.902044Z",
     "iopub.status.busy": "2024-12-17T10:56:21.901781Z",
     "iopub.status.idle": "2024-12-17T10:56:24.351029Z",
     "shell.execute_reply": "2024-12-17T10:56:24.350173Z",
     "shell.execute_reply.started": "2024-12-17T10:56:21.901988Z"
    },
    "executionInfo": {
     "elapsed": 4958,
     "status": "ok",
     "timestamp": 1734354506239,
     "user": {
      "displayName": "Stefano Gualtieri",
      "userId": "11512827843910756986"
     },
     "user_tz": -60
    },
    "id": "te_Gb3FWsoVO",
    "outputId": "fd374a75-2680-4faa-ae1c-131ef336a1e3",
    "trusted": true
   },
   "outputs": [
    {
     "name": "stdout",
     "output_type": "stream",
     "text": [
      "\u001b[1m1163/1163\u001b[0m \u001b[32m━━━━━━━━━━━━━━━━━━━━\u001b[0m\u001b[37m\u001b[0m \u001b[1m2s\u001b[0m 2ms/step\n",
      "Model perplexity: 5.527252897031331\n"
     ]
    }
   ],
   "source": [
    "y_pred = model.predict(x_test)\n",
    "perp = get_perplexity(y_pred, y_test)\n",
    "print(f\"Model perplexity: {perp}\")"
   ]
  },
  {
   "cell_type": "markdown",
   "metadata": {},
   "source": [
    "The reference model exhibits limited accuracy, with uncertainty represented by a perplexity value of approximately 5.54. This implies that, when predicting the next character, the model typically considers around 5.5 plausible options. The high loss suggests that the model is not yet optimized to effectively capture the sequential dependencies present in the data."
   ]
  },
  {
   "cell_type": "markdown",
   "metadata": {},
   "source": [
    "# Fine Tuning the \"maxlen\" term\n",
    "\n",
    "Now take the model I will use and try to find the best value of \"maxlen\":"
   ]
  },
  {
   "cell_type": "code",
   "execution_count": 52,
   "metadata": {
    "execution": {
     "iopub.execute_input": "2024-12-17T10:56:24.352285Z",
     "iopub.status.busy": "2024-12-17T10:56:24.352013Z",
     "iopub.status.idle": "2024-12-17T11:16:05.943455Z",
     "shell.execute_reply": "2024-12-17T11:16:05.942582Z",
     "shell.execute_reply.started": "2024-12-17T10:56:24.352259Z"
    },
    "trusted": true
   },
   "outputs": [
    {
     "name": "stdout",
     "output_type": "stream",
     "text": [
      "Epoch 1/20\n",
      "\u001b[1m931/931\u001b[0m \u001b[32m━━━━━━━━━━━━━━━━━━━━\u001b[0m\u001b[37m\u001b[0m \u001b[1m8s\u001b[0m 7ms/step - accuracy: 0.2615 - loss: 2.5320 - val_accuracy: 0.4086 - val_loss: 1.8474\n",
      "Epoch 2/20\n",
      "\u001b[1m931/931\u001b[0m \u001b[32m━━━━━━━━━━━━━━━━━━━━\u001b[0m\u001b[37m\u001b[0m \u001b[1m6s\u001b[0m 6ms/step - accuracy: 0.4143 - loss: 1.8408 - val_accuracy: 0.4509 - val_loss: 1.7181\n",
      "Epoch 3/20\n",
      "\u001b[1m931/931\u001b[0m \u001b[32m━━━━━━━━━━━━━━━━━━━━\u001b[0m\u001b[37m\u001b[0m \u001b[1m6s\u001b[0m 6ms/step - accuracy: 0.4532 - loss: 1.7094 - val_accuracy: 0.4749 - val_loss: 1.6403\n",
      "Epoch 4/20\n",
      "\u001b[1m931/931\u001b[0m \u001b[32m━━━━━━━━━━━━━━━━━━━━\u001b[0m\u001b[37m\u001b[0m \u001b[1m6s\u001b[0m 6ms/step - accuracy: 0.4767 - loss: 1.6294 - val_accuracy: 0.4835 - val_loss: 1.6098\n",
      "Epoch 5/20\n",
      "\u001b[1m931/931\u001b[0m \u001b[32m━━━━━━━━━━━━━━━━━━━━\u001b[0m\u001b[37m\u001b[0m \u001b[1m6s\u001b[0m 6ms/step - accuracy: 0.4928 - loss: 1.5703 - val_accuracy: 0.4921 - val_loss: 1.5747\n",
      "Epoch 6/20\n",
      "\u001b[1m931/931\u001b[0m \u001b[32m━━━━━━━━━━━━━━━━━━━━\u001b[0m\u001b[37m\u001b[0m \u001b[1m6s\u001b[0m 6ms/step - accuracy: 0.5045 - loss: 1.5310 - val_accuracy: 0.4948 - val_loss: 1.5679\n",
      "Epoch 7/20\n",
      "\u001b[1m931/931\u001b[0m \u001b[32m━━━━━━━━━━━━━━━━━━━━\u001b[0m\u001b[37m\u001b[0m \u001b[1m6s\u001b[0m 6ms/step - accuracy: 0.5163 - loss: 1.4972 - val_accuracy: 0.4992 - val_loss: 1.5637\n",
      "Epoch 8/20\n",
      "\u001b[1m931/931\u001b[0m \u001b[32m━━━━━━━━━━━━━━━━━━━━\u001b[0m\u001b[37m\u001b[0m \u001b[1m6s\u001b[0m 6ms/step - accuracy: 0.5233 - loss: 1.4621 - val_accuracy: 0.5062 - val_loss: 1.5557\n",
      "Epoch 9/20\n",
      "\u001b[1m931/931\u001b[0m \u001b[32m━━━━━━━━━━━━━━━━━━━━\u001b[0m\u001b[37m\u001b[0m \u001b[1m6s\u001b[0m 6ms/step - accuracy: 0.5315 - loss: 1.4411 - val_accuracy: 0.5082 - val_loss: 1.5546\n",
      "Epoch 10/20\n",
      "\u001b[1m931/931\u001b[0m \u001b[32m━━━━━━━━━━━━━━━━━━━━\u001b[0m\u001b[37m\u001b[0m \u001b[1m6s\u001b[0m 6ms/step - accuracy: 0.5341 - loss: 1.4298 - val_accuracy: 0.5068 - val_loss: 1.5464\n",
      "Epoch 11/20\n",
      "\u001b[1m931/931\u001b[0m \u001b[32m━━━━━━━━━━━━━━━━━━━━\u001b[0m\u001b[37m\u001b[0m \u001b[1m6s\u001b[0m 6ms/step - accuracy: 0.5414 - loss: 1.4045 - val_accuracy: 0.5081 - val_loss: 1.5633\n",
      "Epoch 12/20\n",
      "\u001b[1m931/931\u001b[0m \u001b[32m━━━━━━━━━━━━━━━━━━━━\u001b[0m\u001b[37m\u001b[0m \u001b[1m6s\u001b[0m 6ms/step - accuracy: 0.5497 - loss: 1.3758 - val_accuracy: 0.5080 - val_loss: 1.5596\n",
      "Epoch 13/20\n",
      "\u001b[1m931/931\u001b[0m \u001b[32m━━━━━━━━━━━━━━━━━━━━\u001b[0m\u001b[37m\u001b[0m \u001b[1m6s\u001b[0m 6ms/step - accuracy: 0.5535 - loss: 1.3668 - val_accuracy: 0.5115 - val_loss: 1.5592\n",
      "Epoch 1/20\n",
      "\u001b[1m931/931\u001b[0m \u001b[32m━━━━━━━━━━━━━━━━━━━━\u001b[0m\u001b[37m\u001b[0m \u001b[1m9s\u001b[0m 9ms/step - accuracy: 0.1788 - loss: 3.0000 - val_accuracy: 0.3018 - val_loss: 2.2639\n",
      "Epoch 2/20\n",
      "\u001b[1m931/931\u001b[0m \u001b[32m━━━━━━━━━━━━━━━━━━━━\u001b[0m\u001b[37m\u001b[0m \u001b[1m8s\u001b[0m 8ms/step - accuracy: 0.3402 - loss: 2.0969 - val_accuracy: 0.4033 - val_loss: 1.8509\n",
      "Epoch 3/20\n",
      "\u001b[1m931/931\u001b[0m \u001b[32m━━━━━━━━━━━━━━━━━━━━\u001b[0m\u001b[37m\u001b[0m \u001b[1m8s\u001b[0m 8ms/step - accuracy: 0.3936 - loss: 1.9171 - val_accuracy: 0.4267 - val_loss: 1.7815\n",
      "Epoch 4/20\n",
      "\u001b[1m931/931\u001b[0m \u001b[32m━━━━━━━━━━━━━━━━━━━━\u001b[0m\u001b[37m\u001b[0m \u001b[1m8s\u001b[0m 8ms/step - accuracy: 0.4254 - loss: 1.7933 - val_accuracy: 0.4562 - val_loss: 1.6979\n",
      "Epoch 5/20\n",
      "\u001b[1m931/931\u001b[0m \u001b[32m━━━━━━━━━━━━━━━━━━━━\u001b[0m\u001b[37m\u001b[0m \u001b[1m8s\u001b[0m 8ms/step - accuracy: 0.4463 - loss: 1.7251 - val_accuracy: 0.4671 - val_loss: 1.6623\n",
      "Epoch 6/20\n",
      "\u001b[1m931/931\u001b[0m \u001b[32m━━━━━━━━━━━━━━━━━━━━\u001b[0m\u001b[37m\u001b[0m \u001b[1m8s\u001b[0m 8ms/step - accuracy: 0.4617 - loss: 1.6727 - val_accuracy: 0.4814 - val_loss: 1.6258\n",
      "Epoch 7/20\n",
      "\u001b[1m931/931\u001b[0m \u001b[32m━━━━━━━━━━━━━━━━━━━━\u001b[0m\u001b[37m\u001b[0m \u001b[1m8s\u001b[0m 8ms/step - accuracy: 0.4751 - loss: 1.6266 - val_accuracy: 0.4885 - val_loss: 1.6037\n",
      "Epoch 8/20\n",
      "\u001b[1m931/931\u001b[0m \u001b[32m━━━━━━━━━━━━━━━━━━━━\u001b[0m\u001b[37m\u001b[0m \u001b[1m8s\u001b[0m 8ms/step - accuracy: 0.4841 - loss: 1.6072 - val_accuracy: 0.4887 - val_loss: 1.5941\n",
      "Epoch 9/20\n",
      "\u001b[1m931/931\u001b[0m \u001b[32m━━━━━━━━━━━━━━━━━━━━\u001b[0m\u001b[37m\u001b[0m \u001b[1m8s\u001b[0m 8ms/step - accuracy: 0.4921 - loss: 1.5726 - val_accuracy: 0.4979 - val_loss: 1.5713\n",
      "Epoch 10/20\n",
      "\u001b[1m931/931\u001b[0m \u001b[32m━━━━━━━━━━━━━━━━━━━━\u001b[0m\u001b[37m\u001b[0m \u001b[1m8s\u001b[0m 8ms/step - accuracy: 0.4988 - loss: 1.5521 - val_accuracy: 0.5033 - val_loss: 1.5600\n",
      "Epoch 11/20\n",
      "\u001b[1m931/931\u001b[0m \u001b[32m━━━━━━━━━━━━━━━━━━━━\u001b[0m\u001b[37m\u001b[0m \u001b[1m8s\u001b[0m 8ms/step - accuracy: 0.5073 - loss: 1.5272 - val_accuracy: 0.5049 - val_loss: 1.5510\n",
      "Epoch 12/20\n",
      "\u001b[1m931/931\u001b[0m \u001b[32m━━━━━━━━━━━━━━━━━━━━\u001b[0m\u001b[37m\u001b[0m \u001b[1m8s\u001b[0m 8ms/step - accuracy: 0.5116 - loss: 1.5050 - val_accuracy: 0.5031 - val_loss: 1.5543\n",
      "Epoch 13/20\n",
      "\u001b[1m931/931\u001b[0m \u001b[32m━━━━━━━━━━━━━━━━━━━━\u001b[0m\u001b[37m\u001b[0m \u001b[1m8s\u001b[0m 8ms/step - accuracy: 0.5160 - loss: 1.4903 - val_accuracy: 0.5057 - val_loss: 1.5569\n",
      "Epoch 14/20\n",
      "\u001b[1m931/931\u001b[0m \u001b[32m━━━━━━━━━━━━━━━━━━━━\u001b[0m\u001b[37m\u001b[0m \u001b[1m8s\u001b[0m 8ms/step - accuracy: 0.5215 - loss: 1.4743 - val_accuracy: 0.5090 - val_loss: 1.5464\n",
      "Epoch 15/20\n",
      "\u001b[1m931/931\u001b[0m \u001b[32m━━━━━━━━━━━━━━━━━━━━\u001b[0m\u001b[37m\u001b[0m \u001b[1m8s\u001b[0m 8ms/step - accuracy: 0.5245 - loss: 1.4608 - val_accuracy: 0.5091 - val_loss: 1.5504\n",
      "Epoch 16/20\n",
      "\u001b[1m931/931\u001b[0m \u001b[32m━━━━━━━━━━━━━━━━━━━━\u001b[0m\u001b[37m\u001b[0m \u001b[1m8s\u001b[0m 8ms/step - accuracy: 0.5272 - loss: 1.4505 - val_accuracy: 0.5112 - val_loss: 1.5531\n",
      "Epoch 17/20\n",
      "\u001b[1m931/931\u001b[0m \u001b[32m━━━━━━━━━━━━━━━━━━━━\u001b[0m\u001b[37m\u001b[0m \u001b[1m8s\u001b[0m 8ms/step - accuracy: 0.5316 - loss: 1.4313 - val_accuracy: 0.5127 - val_loss: 1.5454\n",
      "Epoch 18/20\n",
      "\u001b[1m931/931\u001b[0m \u001b[32m━━━━━━━━━━━━━━━━━━━━\u001b[0m\u001b[37m\u001b[0m \u001b[1m8s\u001b[0m 8ms/step - accuracy: 0.5390 - loss: 1.4151 - val_accuracy: 0.5083 - val_loss: 1.5559\n",
      "Epoch 19/20\n",
      "\u001b[1m931/931\u001b[0m \u001b[32m━━━━━━━━━━━━━━━━━━━━\u001b[0m\u001b[37m\u001b[0m \u001b[1m8s\u001b[0m 8ms/step - accuracy: 0.5373 - loss: 1.4135 - val_accuracy: 0.5099 - val_loss: 1.5718\n",
      "Epoch 20/20\n",
      "\u001b[1m931/931\u001b[0m \u001b[32m━━━━━━━━━━━━━━━━━━━━\u001b[0m\u001b[37m\u001b[0m \u001b[1m8s\u001b[0m 8ms/step - accuracy: 0.5435 - loss: 1.3939 - val_accuracy: 0.5119 - val_loss: 1.5687\n",
      "Epoch 1/20\n",
      "\u001b[1m931/931\u001b[0m \u001b[32m━━━━━━━━━━━━━━━━━━━━\u001b[0m\u001b[37m\u001b[0m \u001b[1m15s\u001b[0m 14ms/step - accuracy: 0.2221 - loss: 2.7216 - val_accuracy: 0.3852 - val_loss: 1.9320\n",
      "Epoch 2/20\n",
      "\u001b[1m931/931\u001b[0m \u001b[32m━━━━━━━━━━━━━━━━━━━━\u001b[0m\u001b[37m\u001b[0m \u001b[1m13s\u001b[0m 14ms/step - accuracy: 0.3963 - loss: 1.8984 - val_accuracy: 0.4354 - val_loss: 1.7384\n",
      "Epoch 3/20\n",
      "\u001b[1m931/931\u001b[0m \u001b[32m━━━━━━━━━━━━━━━━━━━━\u001b[0m\u001b[37m\u001b[0m \u001b[1m13s\u001b[0m 14ms/step - accuracy: 0.4376 - loss: 1.7574 - val_accuracy: 0.4543 - val_loss: 1.6764\n",
      "Epoch 4/20\n",
      "\u001b[1m931/931\u001b[0m \u001b[32m━━━━━━━━━━━━━━━━━━━━\u001b[0m\u001b[37m\u001b[0m \u001b[1m13s\u001b[0m 14ms/step - accuracy: 0.4663 - loss: 1.6682 - val_accuracy: 0.4762 - val_loss: 1.6194\n",
      "Epoch 5/20\n",
      "\u001b[1m931/931\u001b[0m \u001b[32m━━━━━━━━━━━━━━━━━━━━\u001b[0m\u001b[37m\u001b[0m \u001b[1m13s\u001b[0m 14ms/step - accuracy: 0.4817 - loss: 1.6047 - val_accuracy: 0.4793 - val_loss: 1.6238\n",
      "Epoch 6/20\n",
      "\u001b[1m931/931\u001b[0m \u001b[32m━━━━━━━━━━━━━━━━━━━━\u001b[0m\u001b[37m\u001b[0m \u001b[1m13s\u001b[0m 14ms/step - accuracy: 0.4951 - loss: 1.5694 - val_accuracy: 0.4980 - val_loss: 1.5613\n",
      "Epoch 7/20\n",
      "\u001b[1m931/931\u001b[0m \u001b[32m━━━━━━━━━━━━━━━━━━━━\u001b[0m\u001b[37m\u001b[0m \u001b[1m13s\u001b[0m 14ms/step - accuracy: 0.5062 - loss: 1.5244 - val_accuracy: 0.5048 - val_loss: 1.5379\n",
      "Epoch 8/20\n",
      "\u001b[1m931/931\u001b[0m \u001b[32m━━━━━━━━━━━━━━━━━━━━\u001b[0m\u001b[37m\u001b[0m \u001b[1m13s\u001b[0m 14ms/step - accuracy: 0.5171 - loss: 1.4884 - val_accuracy: 0.5130 - val_loss: 1.5181\n",
      "Epoch 9/20\n",
      "\u001b[1m931/931\u001b[0m \u001b[32m━━━━━━━━━━━━━━━━━━━━\u001b[0m\u001b[37m\u001b[0m \u001b[1m13s\u001b[0m 14ms/step - accuracy: 0.5227 - loss: 1.4681 - val_accuracy: 0.5106 - val_loss: 1.5311\n",
      "Epoch 10/20\n",
      "\u001b[1m931/931\u001b[0m \u001b[32m━━━━━━━━━━━━━━━━━━━━\u001b[0m\u001b[37m\u001b[0m \u001b[1m13s\u001b[0m 14ms/step - accuracy: 0.5288 - loss: 1.4460 - val_accuracy: 0.5165 - val_loss: 1.5150\n",
      "Epoch 11/20\n",
      "\u001b[1m931/931\u001b[0m \u001b[32m━━━━━━━━━━━━━━━━━━━━\u001b[0m\u001b[37m\u001b[0m \u001b[1m13s\u001b[0m 14ms/step - accuracy: 0.5387 - loss: 1.4164 - val_accuracy: 0.5172 - val_loss: 1.5043\n",
      "Epoch 12/20\n",
      "\u001b[1m931/931\u001b[0m \u001b[32m━━━━━━━━━━━━━━━━━━━━\u001b[0m\u001b[37m\u001b[0m \u001b[1m13s\u001b[0m 14ms/step - accuracy: 0.5443 - loss: 1.3951 - val_accuracy: 0.5152 - val_loss: 1.5083\n",
      "Epoch 13/20\n",
      "\u001b[1m931/931\u001b[0m \u001b[32m━━━━━━━━━━━━━━━━━━━━\u001b[0m\u001b[37m\u001b[0m \u001b[1m13s\u001b[0m 14ms/step - accuracy: 0.5469 - loss: 1.3872 - val_accuracy: 0.5185 - val_loss: 1.5102\n",
      "Epoch 14/20\n",
      "\u001b[1m931/931\u001b[0m \u001b[32m━━━━━━━━━━━━━━━━━━━━\u001b[0m\u001b[37m\u001b[0m \u001b[1m13s\u001b[0m 14ms/step - accuracy: 0.5531 - loss: 1.3697 - val_accuracy: 0.5192 - val_loss: 1.5108\n",
      "Epoch 1/20\n",
      "\u001b[1m931/931\u001b[0m \u001b[32m━━━━━━━━━━━━━━━━━━━━\u001b[0m\u001b[37m\u001b[0m \u001b[1m22s\u001b[0m 22ms/step - accuracy: 0.2326 - loss: 2.6705 - val_accuracy: 0.3710 - val_loss: 1.9491\n",
      "Epoch 2/20\n",
      "\u001b[1m931/931\u001b[0m \u001b[32m━━━━━━━━━━━━━━━━━━━━\u001b[0m\u001b[37m\u001b[0m \u001b[1m20s\u001b[0m 22ms/step - accuracy: 0.2895 - loss: 2.4385 - val_accuracy: 0.3020 - val_loss: 2.2065\n",
      "Epoch 3/20\n",
      "\u001b[1m931/931\u001b[0m \u001b[32m━━━━━━━━━━━━━━━━━━━━\u001b[0m\u001b[37m\u001b[0m \u001b[1m20s\u001b[0m 21ms/step - accuracy: 0.3443 - loss: 2.0887 - val_accuracy: 0.4124 - val_loss: 1.8513\n",
      "Epoch 4/20\n",
      "\u001b[1m931/931\u001b[0m \u001b[32m━━━━━━━━━━━━━━━━━━━━\u001b[0m\u001b[37m\u001b[0m \u001b[1m20s\u001b[0m 21ms/step - accuracy: 0.4022 - loss: 1.8807 - val_accuracy: 0.4350 - val_loss: 1.7711\n",
      "Epoch 5/20\n",
      "\u001b[1m931/931\u001b[0m \u001b[32m━━━━━━━━━━━━━━━━━━━━\u001b[0m\u001b[37m\u001b[0m \u001b[1m20s\u001b[0m 21ms/step - accuracy: 0.4215 - loss: 1.8225 - val_accuracy: 0.4446 - val_loss: 1.7449\n",
      "Epoch 6/20\n",
      "\u001b[1m931/931\u001b[0m \u001b[32m━━━━━━━━━━━━━━━━━━━━\u001b[0m\u001b[37m\u001b[0m \u001b[1m20s\u001b[0m 21ms/step - accuracy: 0.4355 - loss: 1.7705 - val_accuracy: 0.4563 - val_loss: 1.7276\n",
      "Epoch 7/20\n",
      "\u001b[1m931/931\u001b[0m \u001b[32m━━━━━━━━━━━━━━━━━━━━\u001b[0m\u001b[37m\u001b[0m \u001b[1m20s\u001b[0m 21ms/step - accuracy: 0.4545 - loss: 1.7132 - val_accuracy: 0.4780 - val_loss: 1.6266\n",
      "Epoch 8/20\n",
      "\u001b[1m931/931\u001b[0m \u001b[32m━━━━━━━━━━━━━━━━━━━━\u001b[0m\u001b[37m\u001b[0m \u001b[1m20s\u001b[0m 21ms/step - accuracy: 0.4759 - loss: 1.6447 - val_accuracy: 0.4881 - val_loss: 1.5920\n",
      "Epoch 9/20\n",
      "\u001b[1m931/931\u001b[0m \u001b[32m━━━━━━━━━━━━━━━━━━━━\u001b[0m\u001b[37m\u001b[0m \u001b[1m20s\u001b[0m 21ms/step - accuracy: 0.4822 - loss: 1.6087 - val_accuracy: 0.4915 - val_loss: 1.5823\n",
      "Epoch 10/20\n",
      "\u001b[1m931/931\u001b[0m \u001b[32m━━━━━━━━━━━━━━━━━━━━\u001b[0m\u001b[37m\u001b[0m \u001b[1m20s\u001b[0m 21ms/step - accuracy: 0.4962 - loss: 1.5683 - val_accuracy: 0.5035 - val_loss: 1.5604\n",
      "Epoch 11/20\n",
      "\u001b[1m931/931\u001b[0m \u001b[32m━━━━━━━━━━━━━━━━━━━━\u001b[0m\u001b[37m\u001b[0m \u001b[1m20s\u001b[0m 21ms/step - accuracy: 0.4993 - loss: 1.5536 - val_accuracy: 0.5026 - val_loss: 1.5454\n",
      "Epoch 12/20\n",
      "\u001b[1m931/931\u001b[0m \u001b[32m━━━━━━━━━━━━━━━━━━━━\u001b[0m\u001b[37m\u001b[0m \u001b[1m20s\u001b[0m 22ms/step - accuracy: 0.5086 - loss: 1.5183 - val_accuracy: 0.5063 - val_loss: 1.5433\n",
      "Epoch 13/20\n",
      "\u001b[1m931/931\u001b[0m \u001b[32m━━━━━━━━━━━━━━━━━━━━\u001b[0m\u001b[37m\u001b[0m \u001b[1m20s\u001b[0m 21ms/step - accuracy: 0.5173 - loss: 1.4933 - val_accuracy: 0.5116 - val_loss: 1.5252\n",
      "Epoch 14/20\n",
      "\u001b[1m931/931\u001b[0m \u001b[32m━━━━━━━━━━━━━━━━━━━━\u001b[0m\u001b[37m\u001b[0m \u001b[1m20s\u001b[0m 21ms/step - accuracy: 0.5215 - loss: 1.4823 - val_accuracy: 0.5053 - val_loss: 1.5435\n",
      "Epoch 15/20\n",
      "\u001b[1m931/931\u001b[0m \u001b[32m━━━━━━━━━━━━━━━━━━━━\u001b[0m\u001b[37m\u001b[0m \u001b[1m20s\u001b[0m 21ms/step - accuracy: 0.5102 - loss: 1.6533 - val_accuracy: 0.4202 - val_loss: 2.0115\n",
      "Epoch 16/20\n",
      "\u001b[1m931/931\u001b[0m \u001b[32m━━━━━━━━━━━━━━━━━━━━\u001b[0m\u001b[37m\u001b[0m \u001b[1m20s\u001b[0m 21ms/step - accuracy: 0.3925 - loss: 2.2141 - val_accuracy: 0.3603 - val_loss: 2.1121\n",
      "Epoch 1/20\n",
      "\u001b[1m931/931\u001b[0m \u001b[32m━━━━━━━━━━━━━━━━━━━━\u001b[0m\u001b[37m\u001b[0m \u001b[1m25s\u001b[0m 26ms/step - accuracy: 0.1721 - loss: 3.0384 - val_accuracy: 0.2533 - val_loss: 2.5348\n",
      "Epoch 2/20\n",
      "\u001b[1m931/931\u001b[0m \u001b[32m━━━━━━━━━━━━━━━━━━━━\u001b[0m\u001b[37m\u001b[0m \u001b[1m24s\u001b[0m 26ms/step - accuracy: 0.2979 - loss: 2.2685 - val_accuracy: 0.3933 - val_loss: 1.8909\n",
      "Epoch 3/20\n",
      "\u001b[1m931/931\u001b[0m \u001b[32m━━━━━━━━━━━━━━━━━━━━\u001b[0m\u001b[37m\u001b[0m \u001b[1m24s\u001b[0m 25ms/step - accuracy: 0.3956 - loss: 1.8956 - val_accuracy: 0.4269 - val_loss: 1.7974\n",
      "Epoch 4/20\n",
      "\u001b[1m931/931\u001b[0m \u001b[32m━━━━━━━━━━━━━━━━━━━━\u001b[0m\u001b[37m\u001b[0m \u001b[1m24s\u001b[0m 25ms/step - accuracy: 0.4309 - loss: 1.7749 - val_accuracy: 0.4601 - val_loss: 1.6972\n",
      "Epoch 5/20\n",
      "\u001b[1m931/931\u001b[0m \u001b[32m━━━━━━━━━━━━━━━━━━━━\u001b[0m\u001b[37m\u001b[0m \u001b[1m24s\u001b[0m 25ms/step - accuracy: 0.4576 - loss: 1.6969 - val_accuracy: 0.4614 - val_loss: 1.6812\n",
      "Epoch 6/20\n",
      "\u001b[1m931/931\u001b[0m \u001b[32m━━━━━━━━━━━━━━━━━━━━\u001b[0m\u001b[37m\u001b[0m \u001b[1m24s\u001b[0m 25ms/step - accuracy: 0.4713 - loss: 1.6483 - val_accuracy: 0.4813 - val_loss: 1.6153\n",
      "Epoch 7/20\n",
      "\u001b[1m931/931\u001b[0m \u001b[32m━━━━━━━━━━━━━━━━━━━━\u001b[0m\u001b[37m\u001b[0m \u001b[1m24s\u001b[0m 25ms/step - accuracy: 0.4833 - loss: 1.6079 - val_accuracy: 0.4905 - val_loss: 1.5899\n",
      "Epoch 8/20\n",
      "\u001b[1m931/931\u001b[0m \u001b[32m━━━━━━━━━━━━━━━━━━━━\u001b[0m\u001b[37m\u001b[0m \u001b[1m24s\u001b[0m 25ms/step - accuracy: 0.4940 - loss: 1.5704 - val_accuracy: 0.5038 - val_loss: 1.5507\n",
      "Epoch 9/20\n",
      "\u001b[1m931/931\u001b[0m \u001b[32m━━━━━━━━━━━━━━━━━━━━\u001b[0m\u001b[37m\u001b[0m \u001b[1m24s\u001b[0m 25ms/step - accuracy: 0.5010 - loss: 1.5490 - val_accuracy: 0.4987 - val_loss: 1.5697\n",
      "Epoch 10/20\n",
      "\u001b[1m931/931\u001b[0m \u001b[32m━━━━━━━━━━━━━━━━━━━━\u001b[0m\u001b[37m\u001b[0m \u001b[1m24s\u001b[0m 25ms/step - accuracy: 0.5119 - loss: 1.5125 - val_accuracy: 0.5085 - val_loss: 1.5313\n",
      "Epoch 11/20\n",
      "\u001b[1m931/931\u001b[0m \u001b[32m━━━━━━━━━━━━━━━━━━━━\u001b[0m\u001b[37m\u001b[0m \u001b[1m24s\u001b[0m 25ms/step - accuracy: 0.5158 - loss: 1.4938 - val_accuracy: 0.5133 - val_loss: 1.5223\n",
      "Epoch 12/20\n",
      "\u001b[1m931/931\u001b[0m \u001b[32m━━━━━━━━━━━━━━━━━━━━\u001b[0m\u001b[37m\u001b[0m \u001b[1m24s\u001b[0m 25ms/step - accuracy: 0.5230 - loss: 1.4685 - val_accuracy: 0.5135 - val_loss: 1.5187\n",
      "Epoch 13/20\n",
      "\u001b[1m931/931\u001b[0m \u001b[32m━━━━━━━━━━━━━━━━━━━━\u001b[0m\u001b[37m\u001b[0m \u001b[1m24s\u001b[0m 25ms/step - accuracy: 0.5287 - loss: 1.4505 - val_accuracy: 0.5135 - val_loss: 1.5219\n",
      "Epoch 14/20\n",
      "\u001b[1m931/931\u001b[0m \u001b[32m━━━━━━━━━━━━━━━━━━━━\u001b[0m\u001b[37m\u001b[0m \u001b[1m24s\u001b[0m 25ms/step - accuracy: 0.5315 - loss: 1.4442 - val_accuracy: 0.5181 - val_loss: 1.5121\n",
      "Epoch 15/20\n",
      "\u001b[1m931/931\u001b[0m \u001b[32m━━━━━━━━━━━━━━━━━━━━\u001b[0m\u001b[37m\u001b[0m \u001b[1m24s\u001b[0m 25ms/step - accuracy: 0.5353 - loss: 1.4271 - val_accuracy: 0.5182 - val_loss: 1.5186\n",
      "Epoch 16/20\n",
      "\u001b[1m931/931\u001b[0m \u001b[32m━━━━━━━━━━━━━━━━━━━━\u001b[0m\u001b[37m\u001b[0m \u001b[1m24s\u001b[0m 25ms/step - accuracy: 0.5374 - loss: 1.4139 - val_accuracy: 0.5192 - val_loss: 1.5192\n",
      "Epoch 17/20\n",
      "\u001b[1m931/931\u001b[0m \u001b[32m━━━━━━━━━━━━━━━━━━━━\u001b[0m\u001b[37m\u001b[0m \u001b[1m24s\u001b[0m 25ms/step - accuracy: 0.5418 - loss: 1.4049 - val_accuracy: 0.5191 - val_loss: 1.5390\n"
     ]
    },
    {
     "data": {
      "text/html": [
       "<pre style=\"white-space:pre;overflow-x:auto;line-height:normal;font-family:Menlo,'DejaVu Sans Mono',consolas,'Courier New',monospace\"><span style=\"font-weight: bold\">Model: \"sequential_5\"</span>\n",
       "</pre>\n"
      ],
      "text/plain": [
       "\u001b[1mModel: \"sequential_5\"\u001b[0m\n"
      ]
     },
     "metadata": {},
     "output_type": "display_data"
    },
    {
     "data": {
      "text/html": [
       "<pre style=\"white-space:pre;overflow-x:auto;line-height:normal;font-family:Menlo,'DejaVu Sans Mono',consolas,'Courier New',monospace\">┏━━━━━━━━━━━━━━━━━━━━━━━━━━━━━━━━━┳━━━━━━━━━━━━━━━━━━━━━━━━┳━━━━━━━━━━━━━━━┓\n",
       "┃<span style=\"font-weight: bold\"> Layer (type)                    </span>┃<span style=\"font-weight: bold\"> Output Shape           </span>┃<span style=\"font-weight: bold\">       Param # </span>┃\n",
       "┡━━━━━━━━━━━━━━━━━━━━━━━━━━━━━━━━━╇━━━━━━━━━━━━━━━━━━━━━━━━╇━━━━━━━━━━━━━━━┩\n",
       "│ lstm_6 (<span style=\"color: #0087ff; text-decoration-color: #0087ff\">LSTM</span>)                   │ (<span style=\"color: #00d7ff; text-decoration-color: #00d7ff\">None</span>, <span style=\"color: #00af00; text-decoration-color: #00af00\">15</span>, <span style=\"color: #00af00; text-decoration-color: #00af00\">256</span>)        │       <span style=\"color: #00af00; text-decoration-color: #00af00\">304,128</span> │\n",
       "├─────────────────────────────────┼────────────────────────┼───────────────┤\n",
       "│ dropout_2 (<span style=\"color: #0087ff; text-decoration-color: #0087ff\">Dropout</span>)             │ (<span style=\"color: #00d7ff; text-decoration-color: #00d7ff\">None</span>, <span style=\"color: #00af00; text-decoration-color: #00af00\">15</span>, <span style=\"color: #00af00; text-decoration-color: #00af00\">256</span>)        │             <span style=\"color: #00af00; text-decoration-color: #00af00\">0</span> │\n",
       "├─────────────────────────────────┼────────────────────────┼───────────────┤\n",
       "│ lstm_7 (<span style=\"color: #0087ff; text-decoration-color: #0087ff\">LSTM</span>)                   │ (<span style=\"color: #00d7ff; text-decoration-color: #00d7ff\">None</span>, <span style=\"color: #00af00; text-decoration-color: #00af00\">128</span>)            │       <span style=\"color: #00af00; text-decoration-color: #00af00\">197,120</span> │\n",
       "├─────────────────────────────────┼────────────────────────┼───────────────┤\n",
       "│ dropout_3 (<span style=\"color: #0087ff; text-decoration-color: #0087ff\">Dropout</span>)             │ (<span style=\"color: #00d7ff; text-decoration-color: #00d7ff\">None</span>, <span style=\"color: #00af00; text-decoration-color: #00af00\">128</span>)            │             <span style=\"color: #00af00; text-decoration-color: #00af00\">0</span> │\n",
       "├─────────────────────────────────┼────────────────────────┼───────────────┤\n",
       "│ dense_5 (<span style=\"color: #0087ff; text-decoration-color: #0087ff\">Dense</span>)                 │ (<span style=\"color: #00d7ff; text-decoration-color: #00d7ff\">None</span>, <span style=\"color: #00af00; text-decoration-color: #00af00\">40</span>)             │         <span style=\"color: #00af00; text-decoration-color: #00af00\">5,160</span> │\n",
       "└─────────────────────────────────┴────────────────────────┴───────────────┘\n",
       "</pre>\n"
      ],
      "text/plain": [
       "┏━━━━━━━━━━━━━━━━━━━━━━━━━━━━━━━━━┳━━━━━━━━━━━━━━━━━━━━━━━━┳━━━━━━━━━━━━━━━┓\n",
       "┃\u001b[1m \u001b[0m\u001b[1mLayer (type)                   \u001b[0m\u001b[1m \u001b[0m┃\u001b[1m \u001b[0m\u001b[1mOutput Shape          \u001b[0m\u001b[1m \u001b[0m┃\u001b[1m \u001b[0m\u001b[1m      Param #\u001b[0m\u001b[1m \u001b[0m┃\n",
       "┡━━━━━━━━━━━━━━━━━━━━━━━━━━━━━━━━━╇━━━━━━━━━━━━━━━━━━━━━━━━╇━━━━━━━━━━━━━━━┩\n",
       "│ lstm_6 (\u001b[38;5;33mLSTM\u001b[0m)                   │ (\u001b[38;5;45mNone\u001b[0m, \u001b[38;5;34m15\u001b[0m, \u001b[38;5;34m256\u001b[0m)        │       \u001b[38;5;34m304,128\u001b[0m │\n",
       "├─────────────────────────────────┼────────────────────────┼───────────────┤\n",
       "│ dropout_2 (\u001b[38;5;33mDropout\u001b[0m)             │ (\u001b[38;5;45mNone\u001b[0m, \u001b[38;5;34m15\u001b[0m, \u001b[38;5;34m256\u001b[0m)        │             \u001b[38;5;34m0\u001b[0m │\n",
       "├─────────────────────────────────┼────────────────────────┼───────────────┤\n",
       "│ lstm_7 (\u001b[38;5;33mLSTM\u001b[0m)                   │ (\u001b[38;5;45mNone\u001b[0m, \u001b[38;5;34m128\u001b[0m)            │       \u001b[38;5;34m197,120\u001b[0m │\n",
       "├─────────────────────────────────┼────────────────────────┼───────────────┤\n",
       "│ dropout_3 (\u001b[38;5;33mDropout\u001b[0m)             │ (\u001b[38;5;45mNone\u001b[0m, \u001b[38;5;34m128\u001b[0m)            │             \u001b[38;5;34m0\u001b[0m │\n",
       "├─────────────────────────────────┼────────────────────────┼───────────────┤\n",
       "│ dense_5 (\u001b[38;5;33mDense\u001b[0m)                 │ (\u001b[38;5;45mNone\u001b[0m, \u001b[38;5;34m40\u001b[0m)             │         \u001b[38;5;34m5,160\u001b[0m │\n",
       "└─────────────────────────────────┴────────────────────────┴───────────────┘\n"
      ]
     },
     "metadata": {},
     "output_type": "display_data"
    },
    {
     "data": {
      "text/html": [
       "<pre style=\"white-space:pre;overflow-x:auto;line-height:normal;font-family:Menlo,'DejaVu Sans Mono',consolas,'Courier New',monospace\"><span style=\"font-weight: bold\"> Total params: </span><span style=\"color: #00af00; text-decoration-color: #00af00\">1,012,818</span> (3.86 MB)\n",
       "</pre>\n"
      ],
      "text/plain": [
       "\u001b[1m Total params: \u001b[0m\u001b[38;5;34m1,012,818\u001b[0m (3.86 MB)\n"
      ]
     },
     "metadata": {},
     "output_type": "display_data"
    },
    {
     "data": {
      "text/html": [
       "<pre style=\"white-space:pre;overflow-x:auto;line-height:normal;font-family:Menlo,'DejaVu Sans Mono',consolas,'Courier New',monospace\"><span style=\"font-weight: bold\"> Trainable params: </span><span style=\"color: #00af00; text-decoration-color: #00af00\">506,408</span> (1.93 MB)\n",
       "</pre>\n"
      ],
      "text/plain": [
       "\u001b[1m Trainable params: \u001b[0m\u001b[38;5;34m506,408\u001b[0m (1.93 MB)\n"
      ]
     },
     "metadata": {},
     "output_type": "display_data"
    },
    {
     "data": {
      "text/html": [
       "<pre style=\"white-space:pre;overflow-x:auto;line-height:normal;font-family:Menlo,'DejaVu Sans Mono',consolas,'Courier New',monospace\"><span style=\"font-weight: bold\"> Non-trainable params: </span><span style=\"color: #00af00; text-decoration-color: #00af00\">0</span> (0.00 B)\n",
       "</pre>\n"
      ],
      "text/plain": [
       "\u001b[1m Non-trainable params: \u001b[0m\u001b[38;5;34m0\u001b[0m (0.00 B)\n"
      ]
     },
     "metadata": {},
     "output_type": "display_data"
    },
    {
     "data": {
      "text/html": [
       "<pre style=\"white-space:pre;overflow-x:auto;line-height:normal;font-family:Menlo,'DejaVu Sans Mono',consolas,'Courier New',monospace\"><span style=\"font-weight: bold\"> Optimizer params: </span><span style=\"color: #00af00; text-decoration-color: #00af00\">506,410</span> (1.93 MB)\n",
       "</pre>\n"
      ],
      "text/plain": [
       "\u001b[1m Optimizer params: \u001b[0m\u001b[38;5;34m506,410\u001b[0m (1.93 MB)\n"
      ]
     },
     "metadata": {},
     "output_type": "display_data"
    },
    {
     "name": "stdout",
     "output_type": "stream",
     "text": [
      "Best maxlen value: 15, accuracy: 0.5512024760246277, loss: 1.3797353506088257\n"
     ]
    }
   ],
   "source": [
    "maxlens = [15, 25, 50, 80, 100]\n",
    "\n",
    "max_acc = 0\n",
    "best_maxlen = 0\n",
    "\n",
    "for temp_maxlen in maxlens:\n",
    "\n",
    "\n",
    "\n",
    "  temp_sentences, temp_next_char = generate_sequence (text, temp_maxlen, step)\n",
    "\n",
    "  temp_x, temp_y = one_hot_encode(temp_sentences, temp_maxlen, chars, temp_next_char)\n",
    "\n",
    "  temp_x_train, temp_x_test, temp_y_train, temp_y_test = train_test_split(temp_x, temp_y, test_size=0.2, random_state=42)\n",
    "\n",
    "  temp_model = Sequential()\n",
    "  temp_model.add(LSTM(256, return_sequences=True, input_shape=(temp_maxlen, len(chars))))\n",
    "  temp_model.add(Dropout(0.2))\n",
    "  temp_model.add(LSTM(128))\n",
    "  temp_model.add(Dropout(0.2))\n",
    "\n",
    "  temp_model.add(Dense(len(chars), activation=\"softmax\"))\n",
    "\n",
    "\n",
    "  temp_optimizer = tf.keras.optimizers.RMSprop(learning_rate=0.01)\n",
    "  temp_model.compile(loss=\"categorical_crossentropy\", optimizer=temp_optimizer, metrics=[\"accuracy\"])\n",
    "  temp_early_stopping = EarlyStopping(monitor='val_loss', patience=3, restore_best_weights=True)\n",
    "\n",
    "  temp_history = temp_model.fit(temp_x_train, temp_y_train, batch_size=128, epochs = 20, validation_split=0.2, callbacks=[temp_early_stopping])\n",
    "\n",
    "  temp_model_loss, temp_model_accuracy = temp_model.evaluate (x_test, y_test, verbose=0)\n",
    "\n",
    "  if (temp_model_accuracy > max_acc):\n",
    "\n",
    "    max_acc = temp_model_accuracy\n",
    "    best_maxlen = temp_maxlen\n",
    "    final_model = temp_model\n",
    "    final_history = temp_history\n",
    "    final_model_loss, final_model_accuracy = temp_model_loss, temp_model_accuracy\n",
    "\n",
    "final_model.summary()\n",
    "print(f\"Best maxlen value: {best_maxlen}, accuracy: {final_model_accuracy}, loss: {final_model_loss}\")"
   ]
  },
  {
   "cell_type": "markdown",
   "metadata": {
    "id": "75tTt4KZijyN"
   },
   "source": [
    "# New model\n",
    "\n",
    "In the new model, I increased the number of neurons in the first LSTM layer from 128 to 256 to enhance the model's capacity for capturing complex sequential dependencies in the data. I added Dropout layers with a rate of 0.2 after both LSTM layers to mitigate overfitting by preventing the network from relying too heavily on specific neurons. To further refine performance, I reduced the batch size to 128, which can help stabilize the gradient updates during training and allow the model to generalize better and setting maxlen_2 to 15"
   ]
  },
  {
   "cell_type": "code",
   "execution_count": 53,
   "metadata": {
    "colab": {
     "base_uri": "https://localhost:8080/",
     "height": 289
    },
    "execution": {
     "iopub.execute_input": "2024-12-17T11:16:05.944912Z",
     "iopub.status.busy": "2024-12-17T11:16:05.944663Z",
     "iopub.status.idle": "2024-12-17T11:16:06.839326Z",
     "shell.execute_reply": "2024-12-17T11:16:06.838474Z",
     "shell.execute_reply.started": "2024-12-17T11:16:05.944887Z"
    },
    "executionInfo": {
     "elapsed": 1047,
     "status": "ok",
     "timestamp": 1734356157003,
     "user": {
      "displayName": "Stefano Gualtieri",
      "userId": "11512827843910756986"
     },
     "user_tz": -60
    },
    "id": "SaSMaiVCNbpx",
    "outputId": "24794db6-2858-459a-af64-874d34e23cae",
    "trusted": true
   },
   "outputs": [
    {
     "data": {
      "text/html": [
       "<pre style=\"white-space:pre;overflow-x:auto;line-height:normal;font-family:Menlo,'DejaVu Sans Mono',consolas,'Courier New',monospace\"><span style=\"font-weight: bold\">Model: \"sequential_10\"</span>\n",
       "</pre>\n"
      ],
      "text/plain": [
       "\u001b[1mModel: \"sequential_10\"\u001b[0m\n"
      ]
     },
     "metadata": {},
     "output_type": "display_data"
    },
    {
     "data": {
      "text/html": [
       "<pre style=\"white-space:pre;overflow-x:auto;line-height:normal;font-family:Menlo,'DejaVu Sans Mono',consolas,'Courier New',monospace\">┏━━━━━━━━━━━━━━━━━━━━━━━━━━━━━━━━━┳━━━━━━━━━━━━━━━━━━━━━━━━┳━━━━━━━━━━━━━━━┓\n",
       "┃<span style=\"font-weight: bold\"> Layer (type)                    </span>┃<span style=\"font-weight: bold\"> Output Shape           </span>┃<span style=\"font-weight: bold\">       Param # </span>┃\n",
       "┡━━━━━━━━━━━━━━━━━━━━━━━━━━━━━━━━━╇━━━━━━━━━━━━━━━━━━━━━━━━╇━━━━━━━━━━━━━━━┩\n",
       "│ lstm_16 (<span style=\"color: #0087ff; text-decoration-color: #0087ff\">LSTM</span>)                  │ (<span style=\"color: #00d7ff; text-decoration-color: #00d7ff\">None</span>, <span style=\"color: #00af00; text-decoration-color: #00af00\">15</span>, <span style=\"color: #00af00; text-decoration-color: #00af00\">256</span>)        │       <span style=\"color: #00af00; text-decoration-color: #00af00\">304,128</span> │\n",
       "├─────────────────────────────────┼────────────────────────┼───────────────┤\n",
       "│ dropout_12 (<span style=\"color: #0087ff; text-decoration-color: #0087ff\">Dropout</span>)            │ (<span style=\"color: #00d7ff; text-decoration-color: #00d7ff\">None</span>, <span style=\"color: #00af00; text-decoration-color: #00af00\">15</span>, <span style=\"color: #00af00; text-decoration-color: #00af00\">256</span>)        │             <span style=\"color: #00af00; text-decoration-color: #00af00\">0</span> │\n",
       "├─────────────────────────────────┼────────────────────────┼───────────────┤\n",
       "│ lstm_17 (<span style=\"color: #0087ff; text-decoration-color: #0087ff\">LSTM</span>)                  │ (<span style=\"color: #00d7ff; text-decoration-color: #00d7ff\">None</span>, <span style=\"color: #00af00; text-decoration-color: #00af00\">128</span>)            │       <span style=\"color: #00af00; text-decoration-color: #00af00\">197,120</span> │\n",
       "├─────────────────────────────────┼────────────────────────┼───────────────┤\n",
       "│ dropout_13 (<span style=\"color: #0087ff; text-decoration-color: #0087ff\">Dropout</span>)            │ (<span style=\"color: #00d7ff; text-decoration-color: #00d7ff\">None</span>, <span style=\"color: #00af00; text-decoration-color: #00af00\">128</span>)            │             <span style=\"color: #00af00; text-decoration-color: #00af00\">0</span> │\n",
       "├─────────────────────────────────┼────────────────────────┼───────────────┤\n",
       "│ dense_10 (<span style=\"color: #0087ff; text-decoration-color: #0087ff\">Dense</span>)                │ (<span style=\"color: #00d7ff; text-decoration-color: #00d7ff\">None</span>, <span style=\"color: #00af00; text-decoration-color: #00af00\">40</span>)             │         <span style=\"color: #00af00; text-decoration-color: #00af00\">5,160</span> │\n",
       "└─────────────────────────────────┴────────────────────────┴───────────────┘\n",
       "</pre>\n"
      ],
      "text/plain": [
       "┏━━━━━━━━━━━━━━━━━━━━━━━━━━━━━━━━━┳━━━━━━━━━━━━━━━━━━━━━━━━┳━━━━━━━━━━━━━━━┓\n",
       "┃\u001b[1m \u001b[0m\u001b[1mLayer (type)                   \u001b[0m\u001b[1m \u001b[0m┃\u001b[1m \u001b[0m\u001b[1mOutput Shape          \u001b[0m\u001b[1m \u001b[0m┃\u001b[1m \u001b[0m\u001b[1m      Param #\u001b[0m\u001b[1m \u001b[0m┃\n",
       "┡━━━━━━━━━━━━━━━━━━━━━━━━━━━━━━━━━╇━━━━━━━━━━━━━━━━━━━━━━━━╇━━━━━━━━━━━━━━━┩\n",
       "│ lstm_16 (\u001b[38;5;33mLSTM\u001b[0m)                  │ (\u001b[38;5;45mNone\u001b[0m, \u001b[38;5;34m15\u001b[0m, \u001b[38;5;34m256\u001b[0m)        │       \u001b[38;5;34m304,128\u001b[0m │\n",
       "├─────────────────────────────────┼────────────────────────┼───────────────┤\n",
       "│ dropout_12 (\u001b[38;5;33mDropout\u001b[0m)            │ (\u001b[38;5;45mNone\u001b[0m, \u001b[38;5;34m15\u001b[0m, \u001b[38;5;34m256\u001b[0m)        │             \u001b[38;5;34m0\u001b[0m │\n",
       "├─────────────────────────────────┼────────────────────────┼───────────────┤\n",
       "│ lstm_17 (\u001b[38;5;33mLSTM\u001b[0m)                  │ (\u001b[38;5;45mNone\u001b[0m, \u001b[38;5;34m128\u001b[0m)            │       \u001b[38;5;34m197,120\u001b[0m │\n",
       "├─────────────────────────────────┼────────────────────────┼───────────────┤\n",
       "│ dropout_13 (\u001b[38;5;33mDropout\u001b[0m)            │ (\u001b[38;5;45mNone\u001b[0m, \u001b[38;5;34m128\u001b[0m)            │             \u001b[38;5;34m0\u001b[0m │\n",
       "├─────────────────────────────────┼────────────────────────┼───────────────┤\n",
       "│ dense_10 (\u001b[38;5;33mDense\u001b[0m)                │ (\u001b[38;5;45mNone\u001b[0m, \u001b[38;5;34m40\u001b[0m)             │         \u001b[38;5;34m5,160\u001b[0m │\n",
       "└─────────────────────────────────┴────────────────────────┴───────────────┘\n"
      ]
     },
     "metadata": {},
     "output_type": "display_data"
    },
    {
     "data": {
      "text/html": [
       "<pre style=\"white-space:pre;overflow-x:auto;line-height:normal;font-family:Menlo,'DejaVu Sans Mono',consolas,'Courier New',monospace\"><span style=\"font-weight: bold\"> Total params: </span><span style=\"color: #00af00; text-decoration-color: #00af00\">506,408</span> (1.93 MB)\n",
       "</pre>\n"
      ],
      "text/plain": [
       "\u001b[1m Total params: \u001b[0m\u001b[38;5;34m506,408\u001b[0m (1.93 MB)\n"
      ]
     },
     "metadata": {},
     "output_type": "display_data"
    },
    {
     "data": {
      "text/html": [
       "<pre style=\"white-space:pre;overflow-x:auto;line-height:normal;font-family:Menlo,'DejaVu Sans Mono',consolas,'Courier New',monospace\"><span style=\"font-weight: bold\"> Trainable params: </span><span style=\"color: #00af00; text-decoration-color: #00af00\">506,408</span> (1.93 MB)\n",
       "</pre>\n"
      ],
      "text/plain": [
       "\u001b[1m Trainable params: \u001b[0m\u001b[38;5;34m506,408\u001b[0m (1.93 MB)\n"
      ]
     },
     "metadata": {},
     "output_type": "display_data"
    },
    {
     "data": {
      "text/html": [
       "<pre style=\"white-space:pre;overflow-x:auto;line-height:normal;font-family:Menlo,'DejaVu Sans Mono',consolas,'Courier New',monospace\"><span style=\"font-weight: bold\"> Non-trainable params: </span><span style=\"color: #00af00; text-decoration-color: #00af00\">0</span> (0.00 B)\n",
       "</pre>\n"
      ],
      "text/plain": [
       "\u001b[1m Non-trainable params: \u001b[0m\u001b[38;5;34m0\u001b[0m (0.00 B)\n"
      ]
     },
     "metadata": {},
     "output_type": "display_data"
    }
   ],
   "source": [
    "maxlen_2 = 15\n",
    "step = 3\n",
    "\n",
    "sentences_2, next_char_2 = generate_sequence(text, maxlen_2, step)\n",
    "\n",
    "x_2, y_2 = one_hot_encode(sentences_2, maxlen_2, chars, next_char_2)\n",
    "\n",
    "x_train_2, x_test_2, y_train_2, y_test_2 = train_test_split(x_2, y_2, test_size=0.2, random_state=42)\n",
    "\n",
    "new_model = Sequential()\n",
    "\n",
    "new_model.add(LSTM(256, return_sequences=True, input_shape=(maxlen_2, len(chars))))\n",
    "new_model.add(Dropout(0.2))\n",
    "\n",
    "new_model.add(LSTM(128))\n",
    "new_model.add(Dropout(0.2))\n",
    "\n",
    "new_model.add(Dense(len(chars), activation='softmax'))\n",
    "\n",
    "new_model_optimizer = keras.optimizers.RMSprop(learning_rate=0.01)\n",
    "early_stopping = EarlyStopping(monitor='val_loss', patience=3, restore_best_weights=True)\n",
    "\n",
    "new_model.compile(loss='categorical_crossentropy', optimizer=new_model_optimizer, metrics=['accuracy'])\n",
    "\n",
    "new_model.summary()\n"
   ]
  },
  {
   "cell_type": "code",
   "execution_count": 54,
   "metadata": {
    "colab": {
     "base_uri": "https://localhost:8080/"
    },
    "execution": {
     "iopub.execute_input": "2024-12-17T11:16:06.840529Z",
     "iopub.status.busy": "2024-12-17T11:16:06.840299Z",
     "iopub.status.idle": "2024-12-17T11:17:12.987775Z",
     "shell.execute_reply": "2024-12-17T11:17:12.986895Z",
     "shell.execute_reply.started": "2024-12-17T11:16:06.840506Z"
    },
    "executionInfo": {
     "elapsed": 186178,
     "status": "ok",
     "timestamp": 1734355487739,
     "user": {
      "displayName": "Stefano Gualtieri",
      "userId": "11512827843910756986"
     },
     "user_tz": -60
    },
    "id": "LZ4WtSn7OW6U",
    "outputId": "9a60c9d4-4c75-4ba0-e5f7-e70e205c681c",
    "trusted": true
   },
   "outputs": [
    {
     "name": "stdout",
     "output_type": "stream",
     "text": [
      "Epoch 1/20\n",
      "\u001b[1m931/931\u001b[0m \u001b[32m━━━━━━━━━━━━━━━━━━━━\u001b[0m\u001b[37m\u001b[0m \u001b[1m7s\u001b[0m 7ms/step - accuracy: 0.2612 - loss: 2.5280 - val_accuracy: 0.3992 - val_loss: 1.8616\n",
      "Epoch 2/20\n",
      "\u001b[1m931/931\u001b[0m \u001b[32m━━━━━━━━━━━━━━━━━━━━\u001b[0m\u001b[37m\u001b[0m \u001b[1m6s\u001b[0m 6ms/step - accuracy: 0.4146 - loss: 1.8373 - val_accuracy: 0.4455 - val_loss: 1.7063\n",
      "Epoch 3/20\n",
      "\u001b[1m931/931\u001b[0m \u001b[32m━━━━━━━━━━━━━━━━━━━━\u001b[0m\u001b[37m\u001b[0m \u001b[1m6s\u001b[0m 6ms/step - accuracy: 0.4538 - loss: 1.7009 - val_accuracy: 0.4704 - val_loss: 1.6413\n",
      "Epoch 4/20\n",
      "\u001b[1m931/931\u001b[0m \u001b[32m━━━━━━━━━━━━━━━━━━━━\u001b[0m\u001b[37m\u001b[0m \u001b[1m6s\u001b[0m 6ms/step - accuracy: 0.4784 - loss: 1.6246 - val_accuracy: 0.4865 - val_loss: 1.5957\n",
      "Epoch 5/20\n",
      "\u001b[1m931/931\u001b[0m \u001b[32m━━━━━━━━━━━━━━━━━━━━\u001b[0m\u001b[37m\u001b[0m \u001b[1m6s\u001b[0m 6ms/step - accuracy: 0.4946 - loss: 1.5665 - val_accuracy: 0.4922 - val_loss: 1.5679\n",
      "Epoch 6/20\n",
      "\u001b[1m931/931\u001b[0m \u001b[32m━━━━━━━━━━━━━━━━━━━━\u001b[0m\u001b[37m\u001b[0m \u001b[1m6s\u001b[0m 6ms/step - accuracy: 0.5107 - loss: 1.5127 - val_accuracy: 0.4957 - val_loss: 1.5620\n",
      "Epoch 7/20\n",
      "\u001b[1m931/931\u001b[0m \u001b[32m━━━━━━━━━━━━━━━━━━━━\u001b[0m\u001b[37m\u001b[0m \u001b[1m6s\u001b[0m 6ms/step - accuracy: 0.5194 - loss: 1.4813 - val_accuracy: 0.4974 - val_loss: 1.5559\n",
      "Epoch 8/20\n",
      "\u001b[1m931/931\u001b[0m \u001b[32m━━━━━━━━━━━━━━━━━━━━\u001b[0m\u001b[37m\u001b[0m \u001b[1m6s\u001b[0m 6ms/step - accuracy: 0.5249 - loss: 1.4575 - val_accuracy: 0.5023 - val_loss: 1.5463\n",
      "Epoch 9/20\n",
      "\u001b[1m931/931\u001b[0m \u001b[32m━━━━━━━━━━━━━━━━━━━━\u001b[0m\u001b[37m\u001b[0m \u001b[1m6s\u001b[0m 6ms/step - accuracy: 0.5350 - loss: 1.4269 - val_accuracy: 0.5029 - val_loss: 1.5515\n",
      "Epoch 10/20\n",
      "\u001b[1m931/931\u001b[0m \u001b[32m━━━━━━━━━━━━━━━━━━━━\u001b[0m\u001b[37m\u001b[0m \u001b[1m6s\u001b[0m 6ms/step - accuracy: 0.5394 - loss: 1.4043 - val_accuracy: 0.5059 - val_loss: 1.5489\n",
      "Epoch 11/20\n",
      "\u001b[1m931/931\u001b[0m \u001b[32m━━━━━━━━━━━━━━━━━━━━\u001b[0m\u001b[37m\u001b[0m \u001b[1m6s\u001b[0m 6ms/step - accuracy: 0.5466 - loss: 1.3864 - val_accuracy: 0.5078 - val_loss: 1.5501\n"
     ]
    }
   ],
   "source": [
    "start_new_model = time()\n",
    "new_model_history = new_model.fit(x_train_2, y_train_2, batch_size=128, epochs = 20, validation_split=0.2, callbacks=[early_stopping])\n",
    "time_new_model= time() - start_new_model"
   ]
  },
  {
   "cell_type": "code",
   "execution_count": 55,
   "metadata": {
    "colab": {
     "base_uri": "https://localhost:8080/",
     "height": 927
    },
    "execution": {
     "iopub.execute_input": "2024-12-17T11:17:12.989743Z",
     "iopub.status.busy": "2024-12-17T11:17:12.989063Z",
     "iopub.status.idle": "2024-12-17T11:17:13.467018Z",
     "shell.execute_reply": "2024-12-17T11:17:13.466078Z",
     "shell.execute_reply.started": "2024-12-17T11:17:12.989704Z"
    },
    "executionInfo": {
     "elapsed": 660,
     "status": "ok",
     "timestamp": 1734355488392,
     "user": {
      "displayName": "Stefano Gualtieri",
      "userId": "11512827843910756986"
     },
     "user_tz": -60
    },
    "id": "iwymcA2bRzY_",
    "outputId": "7f6af35d-00c6-4cbd-cebd-12d3e402cea0",
    "trusted": true
   },
   "outputs": [
    {
     "data": {
      "image/png": "[encoded data removed]",
      "text/plain": [
       "<Figure size 640x480 with 1 Axes>"
      ]
     },
     "metadata": {},
     "output_type": "display_data"
    },
    {
     "data": {
      "image/png": "[encoded data removed]",
      "text/plain": [
       "<Figure size 640x480 with 1 Axes>"
      ]
     },
     "metadata": {},
     "output_type": "display_data"
    }
   ],
   "source": [
    "plot_accuracy(new_model_history)\n",
    "plot_loss(new_model_history)"
   ]
  },
  {
   "cell_type": "code",
   "execution_count": 56,
   "metadata": {
    "colab": {
     "base_uri": "https://localhost:8080/"
    },
    "execution": {
     "iopub.execute_input": "2024-12-17T11:17:13.468840Z",
     "iopub.status.busy": "2024-12-17T11:17:13.468450Z",
     "iopub.status.idle": "2024-12-17T11:17:17.045819Z",
     "shell.execute_reply": "2024-12-17T11:17:17.044904Z",
     "shell.execute_reply.started": "2024-12-17T11:17:13.468800Z"
    },
    "executionInfo": {
     "elapsed": 4072,
     "status": "ok",
     "timestamp": 1734355492462,
     "user": {
      "displayName": "Stefano Gualtieri",
      "userId": "11512827843910756986"
     },
     "user_tz": -60
    },
    "id": "2BZVNDiUR5ID",
    "outputId": "cda7cc11-6123-4019-e498-51418f60435d",
    "trusted": true
   },
   "outputs": [
    {
     "name": "stdout",
     "output_type": "stream",
     "text": [
      "Evaluation my model: \n",
      "Test loss: 1.3987572193145752, Test accuracy: 0.5441085696220398\n"
     ]
    }
   ],
   "source": [
    "print(\"Evaluation my model: \")\n",
    "new_model_loss, new_model_accuracy = new_model.evaluate (x_test, y_test, verbose=0)\n",
    "print(f\"Test loss: {new_model_loss}, Test accuracy: {new_model_accuracy}\")"
   ]
  },
  {
   "cell_type": "code",
   "execution_count": 57,
   "metadata": {
    "colab": {
     "base_uri": "https://localhost:8080/"
    },
    "execution": {
     "iopub.execute_input": "2024-12-17T11:17:17.047363Z",
     "iopub.status.busy": "2024-12-17T11:17:17.047095Z",
     "iopub.status.idle": "2024-12-17T11:17:20.575329Z",
     "shell.execute_reply": "2024-12-17T11:17:20.574379Z",
     "shell.execute_reply.started": "2024-12-17T11:17:17.047337Z"
    },
    "executionInfo": {
     "elapsed": 3242,
     "status": "ok",
     "timestamp": 1734355495701,
     "user": {
      "displayName": "Stefano Gualtieri",
      "userId": "11512827843910756986"
     },
     "user_tz": -60
    },
    "id": "Jmyt4JtIXcgF",
    "outputId": "a8001674-1563-4656-a03c-08746719ace3",
    "trusted": true
   },
   "outputs": [
    {
     "name": "stdout",
     "output_type": "stream",
     "text": [
      "\u001b[1m1163/1163\u001b[0m \u001b[32m━━━━━━━━━━━━━━━━━━━━\u001b[0m\u001b[37m\u001b[0m \u001b[1m3s\u001b[0m 2ms/step\n",
      "Model perplexity: 4.050117505624767\n"
     ]
    }
   ],
   "source": [
    "y_pred_new = new_model.predict(x_test)\n",
    "new_perp = get_perplexity(y_pred_new, y_test)\n",
    "print(f\"Model perplexity: {new_perp}\")"
   ]
  },
  {
   "cell_type": "markdown",
   "metadata": {},
   "source": [
    "The new model shows a significant improvement over the reference model:\n",
    "\n",
    "Accuracy improvement: The accuracy increased from 46% to 54%, indicating the model's enhanced ability to generalize on the test set.\n",
    "\n",
    "Reduction in perplexity: The value decreased from 5.52 to 4.05, demonstrating that the model assigns higher probabilities to the correct characters, thereby reducing prediction uncertainty.\n",
    "\n",
    "Reduction in loss: The loss decreased from 1.71 in the reference model to 1.39, indicating better convergence and greater efficiency in modeling the data distribution."
   ]
  },
  {
   "cell_type": "markdown",
   "metadata": {
    "id": "_epkyEF5MQwb"
   },
   "source": [
    "# Comparison"
   ]
  },
  {
   "cell_type": "code",
   "execution_count": 58,
   "metadata": {
    "execution": {
     "iopub.execute_input": "2024-12-17T11:17:20.577117Z",
     "iopub.status.busy": "2024-12-17T11:17:20.576726Z",
     "iopub.status.idle": "2024-12-17T11:17:26.894569Z",
     "shell.execute_reply": "2024-12-17T11:17:26.893830Z",
     "shell.execute_reply.started": "2024-12-17T11:17:20.577075Z"
    },
    "id": "QvWUkAgWMQF9",
    "trusted": true
   },
   "outputs": [],
   "source": [
    "score_reference = model.evaluate(x_test, y_test, verbose=0)\n",
    "score_new_model = new_model.evaluate(x_test, y_test, verbose=0)\n"
   ]
  },
  {
   "cell_type": "code",
   "execution_count": 59,
   "metadata": {
    "colab": {
     "base_uri": "https://localhost:8080/"
    },
    "execution": {
     "iopub.execute_input": "2024-12-17T11:17:26.896143Z",
     "iopub.status.busy": "2024-12-17T11:17:26.895837Z",
     "iopub.status.idle": "2024-12-17T11:17:26.900846Z",
     "shell.execute_reply": "2024-12-17T11:17:26.899925Z",
     "shell.execute_reply.started": "2024-12-17T11:17:26.896115Z"
    },
    "executionInfo": {
     "elapsed": 6,
     "status": "ok",
     "timestamp": 1734355514847,
     "user": {
      "displayName": "Stefano Gualtieri",
      "userId": "11512827843910756986"
     },
     "user_tz": -60
    },
    "id": "iSi3bxaDMTpa",
    "outputId": "0200c73e-1544-4259-88cf-2f4981b12eac",
    "trusted": true
   },
   "outputs": [
    {
     "name": "stdout",
     "output_type": "stream",
     "text": [
      "Accuracy of the reference model: 0.467392\n",
      "Accuracy of new model: 0.544109\n"
     ]
    }
   ],
   "source": [
    "acc_reference = round(score_reference[1],6)\n",
    "acc_new_model = round(score_new_model[1],6)\n",
    "\n",
    "print(f\"Accuracy of the reference model: {acc_reference}\")\n",
    "print(f\"Accuracy of new model: {acc_new_model}\")"
   ]
  },
  {
   "cell_type": "markdown",
   "metadata": {
    "id": "2VMCdOD8MhT6"
   },
   "source": [
    "The following plot shows accuracy on the y-axis and training time on the x-axis."
   ]
  },
  {
   "cell_type": "code",
   "execution_count": 60,
   "metadata": {
    "execution": {
     "iopub.execute_input": "2024-12-17T11:17:26.902123Z",
     "iopub.status.busy": "2024-12-17T11:17:26.901841Z",
     "iopub.status.idle": "2024-12-17T11:17:26.910005Z",
     "shell.execute_reply": "2024-12-17T11:17:26.909392Z",
     "shell.execute_reply.started": "2024-12-17T11:17:26.902097Z"
    },
    "id": "_P1RnW1zMePT",
    "trusted": true
   },
   "outputs": [],
   "source": [
    "param_reference = model.count_params()\n",
    "param_new_model = new_model.count_params()"
   ]
  },
  {
   "cell_type": "code",
   "execution_count": 61,
   "metadata": {
    "colab": {
     "base_uri": "https://localhost:8080/",
     "height": 472
    },
    "execution": {
     "iopub.execute_input": "2024-12-17T11:17:26.911130Z",
     "iopub.status.busy": "2024-12-17T11:17:26.910890Z",
     "iopub.status.idle": "2024-12-17T11:17:27.164487Z",
     "shell.execute_reply": "2024-12-17T11:17:27.163711Z",
     "shell.execute_reply.started": "2024-12-17T11:17:26.911106Z"
    },
    "executionInfo": {
     "elapsed": 549,
     "status": "ok",
     "timestamp": 1734355619675,
     "user": {
      "displayName": "Stefano Gualtieri",
      "userId": "11512827843910756986"
     },
     "user_tz": -60
    },
    "id": "7ZMJP5K9Mjh9",
    "outputId": "75410bb0-1143-40f7-f9c9-bc52c598144b",
    "trusted": true
   },
   "outputs": [
    {
     "data": {
      "image/png": "[encoded data removed]",
      "text/plain": [
       "<Figure size 640x480 with 1 Axes>"
      ]
     },
     "metadata": {},
     "output_type": "display_data"
    }
   ],
   "source": [
    "acc_list = [acc_reference, acc_new_model]\n",
    "time_list = [time_reference, time_new_model]\n",
    "params_list = [param_reference, param_new_model]\n",
    "\n",
    "norm_params_list = [int(float(p)/max(params_list)*1000) for p in params_list]\n",
    "\n",
    "labels = ['Reference model', 'New model']\n",
    "\n",
    "fig, ax  = plt.subplots()\n",
    "ax.scatter(time_list, acc_list, s=norm_params_list)\n",
    "for i, label in enumerate(labels):\n",
    "  ax.annotate(label, (time_list[i], acc_list[i]))\n",
    "\n",
    "plt.ylabel('Accuracy')\n",
    "plt.xlabel('Training time (s)')\n",
    "plt.title('Comparison of models')\n",
    "plt.show()"
   ]
  },
  {
   "cell_type": "markdown",
   "metadata": {
    "id": "nCTukteOprzW"
   },
   "source": [
    "We can see that my model achieves better accuracy compared to the reference model, but at the cost of longer training time"
   ]
  }
 ],
 "metadata": {
  "accelerator": "GPU",
  "colab": {
   "gpuType": "T4",
   "provenance": []
  },
  "kaggle": {
   "accelerator": "nvidiaTeslaT4",
   "dataSources": [
    {
     "datasetId": 6259315,
     "sourceId": 10141302,
     "sourceType": "datasetVersion"
    }
   ],
   "dockerImageVersionId": 30805,
   "isGpuEnabled": true,
   "isInternetEnabled": true,
   "language": "python",
   "sourceType": "notebook"
  },
  "kernelspec": {
   "display_name": "Python 3",
   "language": "python",
   "name": "python3"
  },
  "language_info": {
   "codemirror_mode": {
    "name": "ipython",
    "version": 3
   },
   "file_extension": ".py",
   "mimetype": "text/x-python",
   "name": "python",
   "nbconvert_exporter": "python",
   "pygments_lexer": "ipython3",
   "version": "3.10.14"
  }
 },
 "nbformat": 4,
 "nbformat_minor": 4
}
